{
 "cells": [
  {
   "cell_type": "code",
   "execution_count": null,
   "metadata": {},
   "outputs": [],
   "source": [
    "import Pyro4\n",
    "import Pyro4.naming\n",
    "\n",
    "def start_nameserver(ns_port=8888):\n",
    "    \"\"\"Starts a Pyro4 nameserver that listens on all network interfaces.\n",
    "\n",
    "    Parameters\n",
    "    ----------\n",
    "    ns_port : int\n",
    "        the port number for the nameserver to listen on\n",
    "\n",
    "    Returns\n",
    "    -------\n",
    "    \"\"\"\n",
    "    Pyro4.config.SERIALIZERS_ACCEPTED = set(['pickle'])\n",
    "    Pyro4.config.PICKLE_PROTOCOL_VERSION=4\n",
    "    Pyro4.naming.startNSloop(host='10.108.30.63', port=ns_port)\n",
    "    \n",
    "start_nameserver(ns_port=9090)"
   ]
  }
 ],
 "metadata": {
  "language_info": {
   "name": "python"
  }
 },
 "nbformat": 4,
 "nbformat_minor": 2
}
