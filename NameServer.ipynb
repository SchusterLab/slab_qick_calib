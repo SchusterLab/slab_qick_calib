{
 "cells": [
  {
   "cell_type": "code",
   "execution_count": 2,
   "metadata": {},
   "outputs": [
    {
     "ename": "OSError",
     "evalue": "[WinError 10049] The requested address is not valid in its context",
     "output_type": "error",
     "traceback": [
      "\u001b[1;31m---------------------------------------------------------------------------\u001b[0m",
      "\u001b[1;31mOSError\u001b[0m                                   Traceback (most recent call last)",
      "Cell \u001b[1;32mIn[2], line 19\u001b[0m\n\u001b[0;32m     16\u001b[0m     Pyro4\u001b[38;5;241m.\u001b[39mconfig\u001b[38;5;241m.\u001b[39mPICKLE_PROTOCOL_VERSION\u001b[38;5;241m=\u001b[39m\u001b[38;5;241m4\u001b[39m\n\u001b[0;32m     17\u001b[0m     Pyro4\u001b[38;5;241m.\u001b[39mnaming\u001b[38;5;241m.\u001b[39mstartNSloop(host\u001b[38;5;241m=\u001b[39m\u001b[38;5;124m'\u001b[39m\u001b[38;5;124m10.108.30.63\u001b[39m\u001b[38;5;124m'\u001b[39m, port\u001b[38;5;241m=\u001b[39mns_port)\n\u001b[1;32m---> 19\u001b[0m \u001b[43mstart_nameserver\u001b[49m\u001b[43m(\u001b[49m\u001b[43mns_port\u001b[49m\u001b[38;5;241;43m=\u001b[39;49m\u001b[38;5;241;43m9090\u001b[39;49m\u001b[43m)\u001b[49m\n",
      "Cell \u001b[1;32mIn[2], line 17\u001b[0m, in \u001b[0;36mstart_nameserver\u001b[1;34m(ns_port)\u001b[0m\n\u001b[0;32m     15\u001b[0m Pyro4\u001b[38;5;241m.\u001b[39mconfig\u001b[38;5;241m.\u001b[39mSERIALIZERS_ACCEPTED \u001b[38;5;241m=\u001b[39m \u001b[38;5;28mset\u001b[39m([\u001b[38;5;124m'\u001b[39m\u001b[38;5;124mpickle\u001b[39m\u001b[38;5;124m'\u001b[39m])\n\u001b[0;32m     16\u001b[0m Pyro4\u001b[38;5;241m.\u001b[39mconfig\u001b[38;5;241m.\u001b[39mPICKLE_PROTOCOL_VERSION\u001b[38;5;241m=\u001b[39m\u001b[38;5;241m4\u001b[39m\n\u001b[1;32m---> 17\u001b[0m \u001b[43mPyro4\u001b[49m\u001b[38;5;241;43m.\u001b[39;49m\u001b[43mnaming\u001b[49m\u001b[38;5;241;43m.\u001b[39;49m\u001b[43mstartNSloop\u001b[49m\u001b[43m(\u001b[49m\u001b[43mhost\u001b[49m\u001b[38;5;241;43m=\u001b[39;49m\u001b[38;5;124;43m'\u001b[39;49m\u001b[38;5;124;43m10.108.30.63\u001b[39;49m\u001b[38;5;124;43m'\u001b[39;49m\u001b[43m,\u001b[49m\u001b[43m \u001b[49m\u001b[43mport\u001b[49m\u001b[38;5;241;43m=\u001b[39;49m\u001b[43mns_port\u001b[49m\u001b[43m)\u001b[49m\n",
      "File \u001b[1;32mc:\\Users\\slab\\anaconda3\\envs\\slab\\lib\\site-packages\\Pyro4\\naming.py:465\u001b[0m, in \u001b[0;36mstartNSloop\u001b[1;34m(host, port, enableBroadcast, bchost, bcport, unixsocket, nathost, natport, storage, hmac)\u001b[0m\n\u001b[0;32m    462\u001b[0m \u001b[38;5;28;01mdef\u001b[39;00m \u001b[38;5;21mstartNSloop\u001b[39m(host\u001b[38;5;241m=\u001b[39m\u001b[38;5;28;01mNone\u001b[39;00m, port\u001b[38;5;241m=\u001b[39m\u001b[38;5;28;01mNone\u001b[39;00m, enableBroadcast\u001b[38;5;241m=\u001b[39m\u001b[38;5;28;01mTrue\u001b[39;00m, bchost\u001b[38;5;241m=\u001b[39m\u001b[38;5;28;01mNone\u001b[39;00m, bcport\u001b[38;5;241m=\u001b[39m\u001b[38;5;28;01mNone\u001b[39;00m,\n\u001b[0;32m    463\u001b[0m                 unixsocket\u001b[38;5;241m=\u001b[39m\u001b[38;5;28;01mNone\u001b[39;00m, nathost\u001b[38;5;241m=\u001b[39m\u001b[38;5;28;01mNone\u001b[39;00m, natport\u001b[38;5;241m=\u001b[39m\u001b[38;5;28;01mNone\u001b[39;00m, storage\u001b[38;5;241m=\u001b[39m\u001b[38;5;28;01mNone\u001b[39;00m, hmac\u001b[38;5;241m=\u001b[39m\u001b[38;5;28;01mNone\u001b[39;00m):\n\u001b[0;32m    464\u001b[0m     \u001b[38;5;124;03m\"\"\"utility function that starts a new Name server and enters its requestloop.\"\"\"\u001b[39;00m\n\u001b[1;32m--> 465\u001b[0m     daemon \u001b[38;5;241m=\u001b[39m \u001b[43mNameServerDaemon\u001b[49m\u001b[43m(\u001b[49m\u001b[43mhost\u001b[49m\u001b[43m,\u001b[49m\u001b[43m \u001b[49m\u001b[43mport\u001b[49m\u001b[43m,\u001b[49m\u001b[43m \u001b[49m\u001b[43munixsocket\u001b[49m\u001b[43m,\u001b[49m\u001b[43m \u001b[49m\u001b[43mnathost\u001b[49m\u001b[38;5;241;43m=\u001b[39;49m\u001b[43mnathost\u001b[49m\u001b[43m,\u001b[49m\u001b[43m \u001b[49m\u001b[43mnatport\u001b[49m\u001b[38;5;241;43m=\u001b[39;49m\u001b[43mnatport\u001b[49m\u001b[43m,\u001b[49m\u001b[43m \u001b[49m\u001b[43mstorage\u001b[49m\u001b[38;5;241;43m=\u001b[39;49m\u001b[43mstorage\u001b[49m\u001b[43m)\u001b[49m\n\u001b[0;32m    466\u001b[0m     daemon\u001b[38;5;241m.\u001b[39m_pyroHmacKey \u001b[38;5;241m=\u001b[39m hmac\n\u001b[0;32m    467\u001b[0m     nsUri \u001b[38;5;241m=\u001b[39m daemon\u001b[38;5;241m.\u001b[39muriFor(daemon\u001b[38;5;241m.\u001b[39mnameserver)\n",
      "File \u001b[1;32mc:\\Users\\slab\\anaconda3\\envs\\slab\\lib\\site-packages\\Pyro4\\naming.py:269\u001b[0m, in \u001b[0;36mNameServerDaemon.__init__\u001b[1;34m(self, host, port, unixsocket, nathost, natport, storage)\u001b[0m\n\u001b[0;32m    267\u001b[0m \u001b[38;5;28;01mif\u001b[39;00m existing_count \u001b[38;5;241m>\u001b[39m \u001b[38;5;241m0\u001b[39m:\n\u001b[0;32m    268\u001b[0m     log\u001b[38;5;241m.\u001b[39mdebug(\u001b[38;5;124m\"\u001b[39m\u001b[38;5;124mnumber of existing entries in storage: \u001b[39m\u001b[38;5;132;01m%d\u001b[39;00m\u001b[38;5;124m\"\u001b[39m, existing_count)\n\u001b[1;32m--> 269\u001b[0m \u001b[38;5;28;43msuper\u001b[39;49m\u001b[43m(\u001b[49m\u001b[43mNameServerDaemon\u001b[49m\u001b[43m,\u001b[49m\u001b[43m \u001b[49m\u001b[38;5;28;43mself\u001b[39;49m\u001b[43m)\u001b[49m\u001b[38;5;241;43m.\u001b[39;49m\u001b[38;5;21;43m__init__\u001b[39;49m\u001b[43m(\u001b[49m\u001b[43mhost\u001b[49m\u001b[43m,\u001b[49m\u001b[43m \u001b[49m\u001b[43mport\u001b[49m\u001b[43m,\u001b[49m\u001b[43m \u001b[49m\u001b[43munixsocket\u001b[49m\u001b[43m,\u001b[49m\u001b[43m \u001b[49m\u001b[43mnathost\u001b[49m\u001b[38;5;241;43m=\u001b[39;49m\u001b[43mnathost\u001b[49m\u001b[43m,\u001b[49m\u001b[43m \u001b[49m\u001b[43mnatport\u001b[49m\u001b[38;5;241;43m=\u001b[39;49m\u001b[43mnatport\u001b[49m\u001b[43m)\u001b[49m\n\u001b[0;32m    270\u001b[0m \u001b[38;5;28mself\u001b[39m\u001b[38;5;241m.\u001b[39mregister(\u001b[38;5;28mself\u001b[39m\u001b[38;5;241m.\u001b[39mnameserver, constants\u001b[38;5;241m.\u001b[39mNAMESERVER_NAME)\n\u001b[0;32m    271\u001b[0m metadata \u001b[38;5;241m=\u001b[39m {\u001b[38;5;124m\"\u001b[39m\u001b[38;5;124mclass:Pyro4.naming.NameServer\u001b[39m\u001b[38;5;124m\"\u001b[39m}\n",
      "File \u001b[1;32mc:\\Users\\slab\\anaconda3\\envs\\slab\\lib\\site-packages\\Pyro4\\core.py:1141\u001b[0m, in \u001b[0;36mDaemon.__init__\u001b[1;34m(self, host, port, unixsocket, nathost, natport, interface, connected_socket)\u001b[0m\n\u001b[0;32m   1139\u001b[0m     \u001b[38;5;28;01melse\u001b[39;00m:\n\u001b[0;32m   1140\u001b[0m         \u001b[38;5;28;01mraise\u001b[39;00m errors\u001b[38;5;241m.\u001b[39mPyroError(\u001b[38;5;124m\"\u001b[39m\u001b[38;5;124minvalid server type \u001b[39m\u001b[38;5;124m'\u001b[39m\u001b[38;5;132;01m%s\u001b[39;00m\u001b[38;5;124m'\u001b[39m\u001b[38;5;124m\"\u001b[39m \u001b[38;5;241m%\u001b[39m config\u001b[38;5;241m.\u001b[39mSERVERTYPE)\n\u001b[1;32m-> 1141\u001b[0m     \u001b[38;5;28;43mself\u001b[39;49m\u001b[38;5;241;43m.\u001b[39;49m\u001b[43mtransportServer\u001b[49m\u001b[38;5;241;43m.\u001b[39;49m\u001b[43minit\u001b[49m\u001b[43m(\u001b[49m\u001b[38;5;28;43mself\u001b[39;49m\u001b[43m,\u001b[49m\u001b[43m \u001b[49m\u001b[43mhost\u001b[49m\u001b[43m,\u001b[49m\u001b[43m \u001b[49m\u001b[43mport\u001b[49m\u001b[43m,\u001b[49m\u001b[43m \u001b[49m\u001b[43munixsocket\u001b[49m\u001b[43m)\u001b[49m\n\u001b[0;32m   1142\u001b[0m \u001b[38;5;66;03m#: The location (str of the form ``host:portnumber``) on which the Daemon is listening\u001b[39;00m\n\u001b[0;32m   1143\u001b[0m \u001b[38;5;28mself\u001b[39m\u001b[38;5;241m.\u001b[39mlocationStr \u001b[38;5;241m=\u001b[39m \u001b[38;5;28mself\u001b[39m\u001b[38;5;241m.\u001b[39mtransportServer\u001b[38;5;241m.\u001b[39mlocationStr\n",
      "File \u001b[1;32mc:\\Users\\slab\\anaconda3\\envs\\slab\\lib\\site-packages\\Pyro4\\socketserver\\threadpoolserver.py:129\u001b[0m, in \u001b[0;36mSocketServer_Threadpool.init\u001b[1;34m(self, daemon, host, port, unixsocket)\u001b[0m\n\u001b[0;32m    127\u001b[0m     sslContext \u001b[38;5;241m=\u001b[39m \u001b[38;5;28;01mNone\u001b[39;00m\n\u001b[0;32m    128\u001b[0m     log\u001b[38;5;241m.\u001b[39minfo(\u001b[38;5;124m\"\u001b[39m\u001b[38;5;124mnot using SSL\u001b[39m\u001b[38;5;124m\"\u001b[39m)\n\u001b[1;32m--> 129\u001b[0m \u001b[38;5;28mself\u001b[39m\u001b[38;5;241m.\u001b[39msock \u001b[38;5;241m=\u001b[39m \u001b[43msocketutil\u001b[49m\u001b[38;5;241;43m.\u001b[39;49m\u001b[43mcreateSocket\u001b[49m\u001b[43m(\u001b[49m\u001b[43mbind\u001b[49m\u001b[38;5;241;43m=\u001b[39;49m\u001b[43mbind_location\u001b[49m\u001b[43m,\u001b[49m\n\u001b[0;32m    130\u001b[0m \u001b[43m                                    \u001b[49m\u001b[43mreuseaddr\u001b[49m\u001b[38;5;241;43m=\u001b[39;49m\u001b[43mconfig\u001b[49m\u001b[38;5;241;43m.\u001b[39;49m\u001b[43mSOCK_REUSE\u001b[49m\u001b[43m,\u001b[49m\n\u001b[0;32m    131\u001b[0m \u001b[43m                                    \u001b[49m\u001b[43mtimeout\u001b[49m\u001b[38;5;241;43m=\u001b[39;49m\u001b[43mconfig\u001b[49m\u001b[38;5;241;43m.\u001b[39;49m\u001b[43mCOMMTIMEOUT\u001b[49m\u001b[43m,\u001b[49m\n\u001b[0;32m    132\u001b[0m \u001b[43m                                    \u001b[49m\u001b[43mnoinherit\u001b[49m\u001b[38;5;241;43m=\u001b[39;49m\u001b[38;5;28;43;01mTrue\u001b[39;49;00m\u001b[43m,\u001b[49m\n\u001b[0;32m    133\u001b[0m \u001b[43m                                    \u001b[49m\u001b[43mnodelay\u001b[49m\u001b[38;5;241;43m=\u001b[39;49m\u001b[43mconfig\u001b[49m\u001b[38;5;241;43m.\u001b[39;49m\u001b[43mSOCK_NODELAY\u001b[49m\u001b[43m,\u001b[49m\n\u001b[0;32m    134\u001b[0m \u001b[43m                                    \u001b[49m\u001b[43msslContext\u001b[49m\u001b[38;5;241;43m=\u001b[39;49m\u001b[43msslContext\u001b[49m\u001b[43m)\u001b[49m\n\u001b[0;32m    135\u001b[0m \u001b[38;5;28mself\u001b[39m\u001b[38;5;241m.\u001b[39m_socketaddr \u001b[38;5;241m=\u001b[39m \u001b[38;5;28mself\u001b[39m\u001b[38;5;241m.\u001b[39msock\u001b[38;5;241m.\u001b[39mgetsockname()\n\u001b[0;32m    136\u001b[0m \u001b[38;5;28;01mif\u001b[39;00m \u001b[38;5;129;01mnot\u001b[39;00m unixsocket \u001b[38;5;129;01mand\u001b[39;00m \u001b[38;5;28mself\u001b[39m\u001b[38;5;241m.\u001b[39m_socketaddr[\u001b[38;5;241m0\u001b[39m]\u001b[38;5;241m.\u001b[39mstartswith(\u001b[38;5;124m\"\u001b[39m\u001b[38;5;124m127.\u001b[39m\u001b[38;5;124m\"\u001b[39m):\n",
      "File \u001b[1;32mc:\\Users\\slab\\anaconda3\\envs\\slab\\lib\\site-packages\\Pyro4\\socketutil.py:300\u001b[0m, in \u001b[0;36mcreateSocket\u001b[1;34m(bind, connect, reuseaddr, keepalive, timeout, noinherit, ipv6, nodelay, sslContext)\u001b[0m\n\u001b[0;32m    298\u001b[0m     bindOnUnusedPort(sock, bind[\u001b[38;5;241m0\u001b[39m])\n\u001b[0;32m    299\u001b[0m \u001b[38;5;28;01melse\u001b[39;00m:\n\u001b[1;32m--> 300\u001b[0m     \u001b[43msock\u001b[49m\u001b[38;5;241;43m.\u001b[39;49m\u001b[43mbind\u001b[49m\u001b[43m(\u001b[49m\u001b[43mbind\u001b[49m\u001b[43m)\u001b[49m\n\u001b[0;32m    301\u001b[0m \u001b[38;5;28;01mtry\u001b[39;00m:\n\u001b[0;32m    302\u001b[0m     sock\u001b[38;5;241m.\u001b[39mlisten(\u001b[38;5;241m100\u001b[39m)\n",
      "\u001b[1;31mOSError\u001b[0m: [WinError 10049] The requested address is not valid in its context"
     ]
    }
   ],
   "source": [
    "import Pyro4\n",
    "import Pyro4.naming\n",
    "\n",
    "def start_nameserver(ns_address, ns_port=8888):\n",
    "    \"\"\"Starts a Pyro4 nameserver that listens on all network interfaces.\n",
    "\n",
    "    Parameters\n",
    "    ----------\n",
    "    ns_port : int\n",
    "        the port number for the nameserver to listen on\n",
    "\n",
    "    Returns\n",
    "    -------\n",
    "    \"\"\"\n",
    "    Pyro4.config.SERIALIZERS_ACCEPTED = set(['pickle'])\n",
    "    Pyro4.config.PICKLE_PROTOCOL_VERSION=4\n",
    "    Pyro4.naming.startNSloop(host=ns_address, port=ns_port)\n",
    "    \n",
    "start_nameserver(ns_port=9090)"
   ]
  }
 ],
 "metadata": {
  "kernelspec": {
   "display_name": "slab",
   "language": "python",
   "name": "python3"
  },
  "language_info": {
   "codemirror_mode": {
    "name": "ipython",
    "version": 3
   },
   "file_extension": ".py",
   "mimetype": "text/x-python",
   "name": "python",
   "nbconvert_exporter": "python",
   "pygments_lexer": "ipython3",
   "version": "3.10.9"
  }
 },
 "nbformat": 4,
 "nbformat_minor": 2
}
