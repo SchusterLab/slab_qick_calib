{
 "cells": [
  {
   "cell_type": "markdown",
   "metadata": {},
   "source": [
    "# Initializations"
   ]
  },
  {
   "cell_type": "code",
   "execution_count": null,
   "metadata": {},
   "outputs": [],
   "source": [
    "ip = '192.168.137.1'\n",
    "expt_path = 'C:\\\\_Data\\\\LLotsa\\\\Tuning_2025_01_11\\\\'\n",
    "cfg_file='llotsa05.yml'\n",
    "\n",
    "import sys\n",
    "#pt = '\\\\experiments\\\\gen'\n",
    "#sys.path.append(pt)\n",
    "\n",
    "%load_ext autoreload\n",
    "%autoreload 2\n",
    "\n",
    "import numpy as np\n",
    "import matplotlib.pyplot as plt\n",
    "from qick import *\n",
    "import os\n",
    "import time \n",
    "from exp_handling.instrumentmanager import InstrumentManager\n",
    "import experiments as meas\n",
    "import config\n",
    "import qubit_tuning\n",
    "import tuneup\n",
    "import handy\n",
    "import seaborn as sns\n",
    "\n",
    "colors = [\"#0869c8\",\"#b51d14\"]\n",
    "sns.set_palette(sns.color_palette(colors))\n",
    "\n",
    "# Figure params\n",
    "plt.rcParams['figure.figsize'] = [8,4]\n",
    "plt.rcParams.update({'font.size': 11})\n",
    "print('Data will be stored in', expt_path)\n",
    "\n",
    "# # check if we need this. \n",
    "# import importlib \n",
    "# importlib.reload(meas)\n",
    "\n",
    "# Results config file:\n",
    "cfg_path = os.getcwd() + '\\\\configs\\\\' + cfg_file\n",
    "auto_cfg = config.load(cfg_path)\n",
    "\n",
    "# Connect to instruments \n",
    "im = InstrumentManager(ns_address=ip)#, config_path='instruments.cfg') # BF5\n",
    "print(im)\n",
    "soc = QickConfig(im[auto_cfg['aliases']['soc']].get_cfg())\n",
    "print(soc)\n",
    "\n",
    "num_qubits = len(auto_cfg.device.qubit.f_ge)\n",
    "cfg_dict = {'soc':soc, 'expt_path':expt_path, 'cfg_file':cfg_path, 'im':im}\n",
    "\n",
    "max_t1 = 75"
   ]
  },
  {
   "cell_type": "markdown",
   "metadata": {},
   "source": [
    "## Set up new config or data folder"
   ]
  },
  {
   "cell_type": "code",
   "execution_count": null,
   "metadata": {},
   "outputs": [],
   "source": [
    "new_config = False\n",
    "new_folder = False\n",
    "\n",
    "if new_config or new_folder:\n",
    "    expt_path = 'C:\\\\_Data\\\\LLotsa\\\\Tuning_2024_12_20_tprocv2\\\\'\n",
    "    if new_config:\n",
    "        cfg_file='llotsa05.yml'\n",
    "        config.init_config( os.getcwd() + '\\\\configs\\\\' + cfg_file, 20, type='full', aliases='Qick233', t1=30)\n",
    "\n",
    "    os.mkdir(expt_path)\n",
    "    os.mkdir(expt_path + 'images')\n",
    "    os.mkdir(expt_path + 'images\\\\summary')"
   ]
  },
  {
   "cell_type": "markdown",
   "metadata": {},
   "source": [
    "## Signalcore init"
   ]
  },
  {
   "cell_type": "code",
   "execution_count": null,
   "metadata": {},
   "outputs": [],
   "source": [
    "sc1 = im['SC1']\n",
    "sc2 = im['SC2']\n",
    "\n",
    "sc1.open_device()\n",
    "sc2.open_device()\n",
    "\n",
    "def set_frequency(sc, freq):\n",
    "    sc.set_standby(enable = True)\n",
    "    sc1.set_frequency(freq*1e6)\n",
    "    sc2.set_standby(enable = False)\n",
    "    time.sleep(5)\n",
    "\n",
    "def set_power(sc, power):\n",
    "    sc.set_standby(enable = True)\n",
    "\n",
    "    sc.set_power(power)\n",
    "    sc.set_standby(enable = False)\n",
    "\n",
    "    time.sleep(5)"
   ]
  },
  {
   "cell_type": "code",
   "execution_count": null,
   "metadata": {},
   "outputs": [],
   "source": [
    "sc1.set_power(13)\n",
    "sc2.set_power(13)"
   ]
  },
  {
   "cell_type": "code",
   "execution_count": null,
   "metadata": {},
   "outputs": [],
   "source": [
    "sc1\n",
    "sc1.close_device()"
   ]
  },
  {
   "cell_type": "markdown",
   "metadata": {},
   "source": [
    "## Check QICK mirror frequencies"
   ]
  },
  {
   "cell_type": "code",
   "execution_count": null,
   "metadata": {},
   "outputs": [],
   "source": [
    "import qick_check\n",
    "\n",
    "qick_check.check_freqs(3, cfg_dict['cfg_file'])"
   ]
  },
  {
   "cell_type": "markdown",
   "metadata": {},
   "source": [
    "Note: make sure you set your ADC/DAC channels correctly. This code does not automatically fill in the ADC/DAC into your configuration file, so you should check yourself to make sure these values are correct. "
   ]
  },
  {
   "cell_type": "markdown",
   "metadata": {},
   "source": [
    "# Time of Flight (TOF)\n",
    "\n",
    "TOF measures the time it takes for the signal to run through the wires. It will give us the time in clock ticks that we should wait to make a measurements "
   ]
  },
  {
   "cell_type": "code",
   "execution_count": null,
   "metadata": {},
   "outputs": [],
   "source": [
    "\n",
    "tof=meas.ToFCalibrationExperiment(cfg_dict=cfg_dict, qi=0)"
   ]
  },
  {
   "cell_type": "markdown",
   "metadata": {},
   "source": [
    "# Resonator Spectroscopy \n",
    "\n",
    "Run resonator spectroscopy for all resonators by choosing a large frequency scan to look over. The scan will then find the different resonators and fill in the config file with their respective frequencies. In the autocalibration, there will be a finer sweep of each resonator to more accurately find its frequency. The frequencies are saved in <code>auto_cfg.device.readout.frequency</code>"
   ]
  },
  {
   "cell_type": "markdown",
   "metadata": {},
   "source": [
    "## Coarse \n",
    "\n",
    "This will perform peak finding"
   ]
  },
  {
   "cell_type": "code",
   "execution_count": null,
   "metadata": {},
   "outputs": [],
   "source": [
    "#rspec = cfg.make_rspec_coarse(soc, expt_path, cfg_path, i, im=im, start=6000, span=800, reps=2000, npts=5000)\n",
    "qi=10\n",
    "rspecc = meas.ResSpec(cfg_dict, qi=qi, style='coarse', params={'start':950, 'span':2200, 'soft_avgs':1, 'reps':1500, 'gain':0.23, 'expts':5000})\n",
    "res_values = rspecc.data['coarse_peaks']"
   ]
  },
  {
   "cell_type": "markdown",
   "metadata": {},
   "source": [
    "Change prom (prominence value) to adjust how to find the peaks"
   ]
  },
  {
   "cell_type": "code",
   "execution_count": null,
   "metadata": {},
   "outputs": [],
   "source": [
    "rspecc.analyze(peaks=True, debug=True, fit=False, prom=0.05)\n",
    "rspecc.display(peaks=True, fit=False)\n",
    "res_values = rspecc.data['coarse_peaks']"
   ]
  },
  {
   "cell_type": "markdown",
   "metadata": {},
   "source": [
    "Can delete values from res_values if they don't seem to be real res_values. "
   ]
  },
  {
   "cell_type": "code",
   "execution_count": 23,
   "metadata": {},
   "outputs": [],
   "source": [
    "res_values = np.delete(res_values,1)"
   ]
  },
  {
   "cell_type": "markdown",
   "metadata": {},
   "source": [
    "## Fine"
   ]
  },
  {
   "cell_type": "markdown",
   "metadata": {},
   "source": [
    "### Two versions; with kappa/freq or from initial search"
   ]
  },
  {
   "cell_type": "code",
   "execution_count": null,
   "metadata": {},
   "outputs": [],
   "source": [
    "# Just run one  \n",
    "qubit_list = np.arange(20)\n",
    "update=True\n",
    "qubit_list=[10]\n",
    "for qi in qubit_list:    \n",
    "    #rspec = meas.ResSpec(cfg_dict, qi=qi, params={'span':5, 'center':res_values[qi], 'gain':0.25}) # Use this to sweep through the res_values list\n",
    "    rspec = meas.ResSpec(cfg_dict, qi=qi, params={'span':1.5})\n",
    "    #rspec = meas.ResSpec(cfg_dict, qi=qi, params={'span':5, 'gain':0.9})\n",
    "    if rspec.status and update:\n",
    "        auto_cfg = config.update_readout(cfg_path, 'frequency', float(rspec.data['freq_min']), qi)\n",
    "        auto_cfg = config.update_readout(cfg_path, 'qi', float(rspec.data['fit'][1]), qi)\n",
    "        auto_cfg = config.update_readout(cfg_path, 'qe', float(rspec.data['fit'][2]), qi)\n",
    "        auto_cfg = config.update_readout(cfg_path, 'kappa', float(rspec.data['kappa']), qi)"
   ]
  },
  {
   "cell_type": "code",
   "execution_count": null,
   "metadata": {},
   "outputs": [],
   "source": [
    "rspec.data['freq_min']"
   ]
  },
  {
   "cell_type": "code",
   "execution_count": null,
   "metadata": {},
   "outputs": [],
   "source": [
    "config.update_lo(cfg_path, 'gain', 0.18, qi);\n"
   ]
  },
  {
   "cell_type": "markdown",
   "metadata": {},
   "source": [
    "## Resonator Power Spectroscopy \n",
    "\n",
    "Find a good value for gain to park your readout at until you run readout optimization. From the 2D sweep that is produced, choose a value for gain that is right before the resonator 'breaks' (goes from e -> f). Want to choose a high value for gain because we want to be in the shot noise limited regime which increases our signal:noise ratio. The gain value should be saved in <code>auto_cfg.device.readout.gain</code>"
   ]
  },
  {
   "cell_type": "code",
   "execution_count": null,
   "metadata": {},
   "outputs": [],
   "source": [
    "update=False\n",
    "qubit_list = np.arange(20)\n",
    "d=[]\n",
    "#qubit_list=[7]\n",
    "for qi in qubit_list:\n",
    "    #rpowspec=meas.ResSpecPower(cfg_dict, qi=qi)\n",
    "    rpowspec=meas.ResSpecPower(cfg_dict, qi=qi, params={'rng':30, 'span':4,\"f_off\":0})\n",
    "    d.append(rpowspec)\n",
    "    if update:\n",
    "        auto_cfg = config.update_readout(cfg_path, 'lamb', float(rpowspec.data['lamb_shift']), qi)\n"
   ]
  },
  {
   "cell_type": "code",
   "execution_count": null,
   "metadata": {},
   "outputs": [],
   "source": [
    "auto_cfg = config.load(cfg_path)\n",
    "horz_line = auto_cfg.device.readout.gain\n",
    "handy.plot_many(d, title='Resonator Power', save_path=cfg_dict['expt_path'], chan='amps', yax='log', norm=True, horz_line=horz_line)"
   ]
  },
  {
   "cell_type": "markdown",
   "metadata": {},
   "source": [
    "### Save gain values "
   ]
  },
  {
   "cell_type": "code",
   "execution_count": null,
   "metadata": {},
   "outputs": [],
   "source": [
    "# assign the resonator gain to the results config file\n",
    "gain_values = [0.1,0.01]\n",
    "for i in range(num_qubits):\n",
    "    auto_cfg = config.update_readout(cfg_file, 'gain', int(gain_values[i]), i)"
   ]
  },
  {
   "cell_type": "markdown",
   "metadata": {},
   "source": [
    "### Check effect of changing LO power"
   ]
  },
  {
   "cell_type": "code",
   "execution_count": null,
   "metadata": {},
   "outputs": [],
   "source": [
    "lo = [0.01,0.02,0.04, 0.08, 0.16, 0.3, 0.5]\n",
    "d=[]\n",
    "for l in lo:\n",
    "    config.update_lo(cfg_path, 'gain', l, qi)\n",
    "    qubit_list=[10]\n",
    "    for qi in qubit_list:\n",
    "        rpowspec=meas.ResSpecPower(cfg_dict, qi=qi, params={'rng':10})\n",
    "        d.append(rpowspec)\n",
    "\n",
    "fig, ax = plt.subplots(3,3, figsize=(10,10))\n",
    "ax = ax.flatten()\n",
    "fig.suptitle('Lamb Shift')\n",
    "for i in range(len(d)):\n",
    "    ax[i].pcolormesh(d[i].data['xpts'],d[i].data['ypts'],d[i].data['amps'])\n",
    "    ax[i].set_title(f\"LO gain {lo[i]}\")\n",
    "    fig.colorbar(ax[i].collections[0], ax=ax[i])\n",
    "fig.tight_layout()\n"
   ]
  },
  {
   "cell_type": "markdown",
   "metadata": {},
   "source": [
    "# Qubit Spectroscopy"
   ]
  },
  {
   "cell_type": "markdown",
   "metadata": {},
   "source": [
    "Now that things seems to be working, can thinking about getting rid of sections for different scan widths/powers; unless it's nice to keep the old data displayed in multiple cells?"
   ]
  },
  {
   "cell_type": "markdown",
   "metadata": {},
   "source": [
    "## Find qubits"
   ]
  },
  {
   "cell_type": "code",
   "execution_count": null,
   "metadata": {},
   "outputs": [],
   "source": [
    "qubit_list= np.arange(10,20)\n",
    "#qubit_list = [19]\n",
    "bad_qubits=[]\n",
    "for qi in qubit_list:\n",
    "    status, ntries = qubit_tuning.find_spec(qi, cfg_dict, start='fine')\n",
    "    if not status:\n",
    "        bad_qubits.append(qi)"
   ]
  },
  {
   "cell_type": "markdown",
   "metadata": {},
   "source": [
    "### Updating frequencies (currently defunct, not using peak finding)"
   ]
  },
  {
   "cell_type": "code",
   "execution_count": null,
   "metadata": {},
   "outputs": [],
   "source": [
    "# Here, choose which peak you want to save the value for, adjust index accordingly\n",
    "auto_cfg = config.update_qubit(cfg_file, 'f_ef', float(qspec.data[\"coarse_peaks_x\"][0]), i)\n",
    "auto_cfg = config.update_qubit(cfg_file, 'f_ge', float(qspec.data[\"coarse_peaks_x\"][1]), i)"
   ]
  },
  {
   "cell_type": "code",
   "execution_count": null,
   "metadata": {},
   "outputs": [],
   "source": [
    "qubit_list = [4]\n",
    "#qubit_list = np.arange(5)\n",
    "for qi in qubit_list: \n",
    "    qspec=meas.QubitSpec(cfg_dict, qi=qi, style='fine')\n",
    "    if qspec.status: \n",
    "        auto_cfg = config.update_qubit(cfg_path, 'f_ge', float(qspec.data[\"best_fit\"][2]), qi)\n",
    "        auto_cfg = config.update_qubit(cfg_path, 'kappa', float(2*qspec.data[\"best_fit\"][3]), qi)\n",
    "    else:\n",
    "        print('Bad qubit!')\n"
   ]
  },
  {
   "cell_type": "markdown",
   "metadata": {},
   "source": [
    "## Power sweep"
   ]
  },
  {
   "cell_type": "markdown",
   "metadata": {},
   "source": [
    "### Wide scan looking for qubit"
   ]
  },
  {
   "cell_type": "code",
   "execution_count": null,
   "metadata": {},
   "outputs": [],
   "source": [
    "qubit_list = np.arange(20)\n",
    "#qubit_list=[0]\n",
    "d = []\n",
    "for qi in qubit_list:\n",
    "    qi = meas.QubitSpecPower(cfg_dict, qi=qi, style='coarse', params={'max_gain':0.3})\n",
    "    d.append(qi)\n",
    "handy.plot_many(d, title='Qubit Power', save_path=cfg_dict['expt_path'], yax='log', chan='amps')"
   ]
  },
  {
   "cell_type": "markdown",
   "metadata": {},
   "source": [
    "### Narrow scan"
   ]
  },
  {
   "cell_type": "code",
   "execution_count": null,
   "metadata": {},
   "outputs": [],
   "source": [
    "qq=[]\n",
    "qubit_list = np.arange(20)\n",
    "#qubit_list=[5]\n",
    "for qi in qubit_list:\n",
    "    qspec_pow = meas.QubitSpecPower(cfg_dict, qi=qi, style='fine', params={'length':'t1','max_gain':0.1})\n",
    "    # expts_gain=13, rng=300, soft_avgs=2, len='t1', span=60)\n",
    "    qq.append(qspec_pow)\n",
    "handy.plot_many(qq, title='Qubit Power Amps 0.6-0.2', save_path=cfg_dict['expt_path'], yax='log', chan='amps')"
   ]
  },
  {
   "cell_type": "code",
   "execution_count": null,
   "metadata": {},
   "outputs": [],
   "source": [
    "handy.plot_many(qq, title='Qubit Power Phase 0.6-0.2', save_path=cfg_dict['expt_path'], yax='log', chan='phases')"
   ]
  },
  {
   "cell_type": "markdown",
   "metadata": {},
   "source": [
    "# Coherent scans"
   ]
  },
  {
   "cell_type": "markdown",
   "metadata": {},
   "source": [
    "## Fast Tuneup"
   ]
  },
  {
   "cell_type": "code",
   "execution_count": null,
   "metadata": {},
   "outputs": [],
   "source": [
    "qubit_list = np.arange(10,20)\n",
    "#qubit_list=[0]\n",
    "for qi in qubit_list: \n",
    "    qubit_tuning.tune_up_qubit(qi, cfg_dict, first_time=False, single=True)"
   ]
  },
  {
   "cell_type": "markdown",
   "metadata": {},
   "source": [
    "### Check how gain * sigma varies"
   ]
  },
  {
   "cell_type": "code",
   "execution_count": null,
   "metadata": {},
   "outputs": [],
   "source": [
    "auto_cfg = config.load(cfg_path)\n",
    "plt.figure()\n",
    "gain_proxy = np.array(auto_cfg.device.qubit.pulses.pi_ge.gain)*np.array(auto_cfg.device.qubit.pulses.pi_ge.sigma)\n",
    "gain_proxy1 = gain_proxy[0:10]\n",
    "gain_proxy2 = gain_proxy[10:]\n",
    "gain_proxy[gain_proxy>0.1]=np.nan\n",
    "#plt.plot(np.array(auto_cfg.device.qubit.f_ge)[inds], gain_proxy[inds], 'o')\n",
    "\n",
    "plt.plot(np.array(auto_cfg.device.qubit.f_ge)[0:10], gain_proxy1, 'o')\n",
    "plt.plot(np.array(auto_cfg.device.qubit.f_ge)[10:], gain_proxy2, 'o')"
   ]
  },
  {
   "cell_type": "markdown",
   "metadata": {},
   "source": [
    "## Time tracking of params"
   ]
  },
  {
   "cell_type": "code",
   "execution_count": null,
   "metadata": {},
   "outputs": [],
   "source": [
    "qubit_list =np.arange(20)\n",
    "qubit_list= [0,2,3,4,5,6,10,11,12,14,16]\n",
    "time_track_data = [{'t1': [], 't2r': [],'t2e': [], 't1_data': [],'rx':[],'r_data':[], 't2r_data':[], 't2e_data':[], 'fid':[], 'phase':[], 't1x':[], 't2rx':[], 't2ex':[], 'fr':[],'fge':[]} for _ in qubit_list]\n",
    "max_t1=500\n",
    "update=True\n",
    "#first, need to configure active reset and check stark for all. \n",
    "nexp = 2\n",
    "t1_data = [[] for _ in qubit_list]\n",
    "t2r_data = [[] for _ in qubit_list]\n",
    "t2e_data = [[] for _ in qubit_list]\n",
    "fid_data = [[] for _ in qubit_list]\n",
    "phase_data = [[] for _ in qubit_list]\n",
    "import time\n",
    "start_time = time.time()\n",
    "for i in range(nexp):\n",
    "    \n",
    "    for j, qi in enumerate(qubit_list):\n",
    "        print(f\"Starting run {i}/{nexp}, for qubit {qi}. Time elapsed {time.time()-start_time}\")\n",
    "        \n",
    "        # Resonator spectroscopy \n",
    "        rspec = meas.ResSpec(cfg_dict, qi=qi, params={'span':'kappa'}, display=False, progress=False)\n",
    "        auto_cfg = config.update_readout(cfg_path, 'frequency', rspec.data['fit'][0], qi, verbose=False)\n",
    "        if rspec.status:\n",
    "            auto_cfg = config.update_readout(cfg_path, 'qi', rspec.data['fit'][1], qi, verbose=False)\n",
    "            auto_cfg = config.update_readout(cfg_path, 'qe', rspec.data['fit'][2], qi, verbose=False)\n",
    "            auto_cfg = config.update_readout(cfg_path, 'kappa', rspec.data['kappa'], qi, rng_vals=[0.03, 10], verbose=False)\n",
    "            time_track_data[j]['r_data'].append(rspec.data['amps'])\n",
    "\n",
    "        shot=meas.HistogramExperiment(cfg_dict, qi=qi, params={'shots':20000}, display=False, progress=False)\n",
    "        if update:\n",
    "            config.update_readout(cfg_path, 'phase', shot.data['angle'], qi, verbose=False);\n",
    "            config.update_readout(cfg_path, 'threshold', shot.data['thresholds'][0], qi, verbose=False);\n",
    "            config.update_readout(cfg_path, 'fidelity', shot.data['fids'][0], qi, verbose=False);\n",
    "            \n",
    "        t1 = meas.T1Experiment(cfg_dict, qi=qi, display=False, progress=False)\n",
    "        if t1.status:\n",
    "            auto_cfg = config.update_qubit(cfg_path, 'T1', t1.data['new_t1_i'], qi,sig=2, rng_vals=[1.5, max_t1], verbose=False)\n",
    "            time_track_data[j]['t1_data'].append(t1.data['avgi'])\n",
    "            time_track_data[j]['t1'].append(t1.data['new_t1'])\n",
    "        else:\n",
    "            time_track_data[j]['t1_data'].append(np.nan*np.ones(len(t1.data['xpts'])))\n",
    "            time_track_data[j]['t1'].append(np.nan)\n",
    "\n",
    "        t2r = meas.RamseyExperiment(cfg_dict, qi=qi, display=False, progress=False)\n",
    "        if t2r.data['fit_err_par'][1]<0.5:\n",
    "            config.update_qubit(cfg_path, 'f_ge', t2r.data['new_freq'], qi, verbose=False)\n",
    "            time_track_data[j]['t2r_data'].append(t2r.data['avgi'])\n",
    "            time_track_data[j]['t2r'].append(t2r.data['fit_avgi'][3])\n",
    "        else:\n",
    "            time_track_data[j]['t2r_data'].append(np.nan*np.ones(len(t2r.data['xpts'])))\n",
    "            time_track_data[j]['t2r'].append(np.nan)\n",
    "\n",
    "        if t2r.data['fit_err_par'][3]<0.5:\n",
    "            auto_cfg = config.update_qubit(cfg_path, 'T2r', t2r.data['fit_avgi'][3], qi,sig=2, rng_vals=[1.5, 2*max_t1], verbose=False)\n",
    "\n",
    "        \n",
    "        t2e = meas.RamseyEchoExperiment(cfg_dict, qi=qi, display=False, progress=False)\n",
    "        if t2e.status:\n",
    "            auto_cfg = config.update_qubit(cfg_path, 'T2e', t2e.data['fit_avgi'][3], qi,sig=2, rng_vals=[1.5, 2*max_t1], verbose=False)\n",
    "            time_track_data[j]['t2e_data'].append(t2e.data['avgi'])\n",
    "            time_track_data[j]['t2e'].append(t2e.data['fit_avgi'][3])\n",
    "        else:\n",
    "            time_track_data[j]['t2e_data'].append(np.nan*np.ones(len(t2e.data['xpts'])))\n",
    "            time_track_data[j]['t2e'].append(np.nan)\n",
    "\n",
    "        \n",
    "        time_track_data[j]['t1x'].append(t1.data['xpts'])\n",
    "        time_track_data[j]['rx'].append(rspec.data['xpts'])\n",
    "        time_track_data[j]['t2rx'].append(t2r.data['xpts'])\n",
    "        time_track_data[j]['t2ex'].append(t2e.data['xpts'])\n",
    "        \n",
    "        time_track_data[j]['fr'].append(rspec.data['fit'][0])\n",
    "        time_track_data[j]['fge'].append(t2r.data['new_freq'])\n",
    "        \n",
    "        time_track_data[j]['phase'].append(shot.data['angle'])\n",
    "        time_track_data[j]['fid'].append(shot.data['fids'][0])\n",
    "    # plt.figure()\n",
    "    # fig, ax = plt.subplots(1, 1, figsize=(15, 15))\n",
    "    # #ax = ax.flatten()\n",
    "    # for i, qi in enumerate(qubit_list):\n",
    "    #     ax.plot(t1_data[i], label=f'Q{qi}')\n",
    "    # ax.legend()\n",
    "\n"
   ]
  },
  {
   "cell_type": "code",
   "execution_count": null,
   "metadata": {},
   "outputs": [],
   "source": [
    "%matplotlib inline\n",
    "plot_line=True\n",
    "\n",
    "plt.figure()\n",
    "#qubit_list= [0,1,2,3,4,5,6,10,11,12,14,16]\n",
    "\n",
    "nqub = len(qubit_list)\n",
    "sns.set_palette('coolwarm',nqub)\n",
    "fig, ax = plt.subplots(2, 4, figsize=(14, 8))\n",
    "fig2, ax2 = plt.subplots(3,5, figsize=(15,15))\n",
    "fig3, ax3 = plt.subplots(3,5, figsize=(15,15))\n",
    "fig4, ax4 = plt.subplots(3,5, figsize=(15,15))\n",
    "fig5, ax5 = plt.subplots(3,5, figsize=(15,15))\n",
    "ax2 = ax2.flatten()\n",
    "ax3 = ax3.flatten()\n",
    "ax4 = ax4.flatten()\n",
    "ax = ax.flatten()\n",
    "ax5 = ax5.flatten()\n",
    "for i, qi in enumerate(qubit_list):\n",
    "    #if qi==10 or qi==11:\n",
    "    #    continue\n",
    "    phase = np.unwrap(np.array(time_track_data[i]['phase']))\n",
    "    ax[0].plot(time_track_data[i]['t1']/ np.mean(time_track_data[i]['t1']),'o-', label=f'Q{qi}')\n",
    "    ax[1].plot(time_track_data[i]['t2r']/ np.mean(time_track_data[i]['t2r']),'o-', label=f'Q{qi}')\n",
    "    ax[2].plot(time_track_data[i]['t2e']/ np.mean(time_track_data[i]['t2e']),'o-', label=f'Q{qi}')\n",
    "    ax[3].plot(phase- np.mean(phase),'o-', label=f'Q{qi}')\n",
    "    ax[4].plot(time_track_data[i]['fid'],'o-', label=f'Q{qi}')\n",
    "    ff=(1-np.array(time_track_data[i]['fid']))/(1-np.mean(time_track_data[i]['fid']))\n",
    "    \n",
    "    #ax[5].plot(ff,'o-', label=f'Q{qi}')\n",
    "    ax[6].plot(time_track_data[i]['fr']-np.mean(time_track_data[i]['fr']),'o-', label=f'Q{qi}')\n",
    "    ax[7].plot(time_track_data[i]['fge']-np.mean(time_track_data[i]['fge']),'o-', label=f'Q{qi}')\n",
    "    if plot_line:\n",
    "        for j in range(nexp):\n",
    "            ax2[i].plot(time_track_data[i]['t1x'][j],time_track_data[i]['t1_data'][j],label=f'Q{qi}')\n",
    "            ax3[i].plot(time_track_data[i]['t2rx'][j],time_track_data[i]['t2r_data'][j], label=f'Q{qi}')\n",
    "            ax4[i].plot(time_track_data[i]['t2ex'][j],time_track_data[i]['t2e_data'][j], label=f'Q{qi}')\n",
    "    else:\n",
    "        ax2[i].pcolormesh(time_track_data[i]['t1_data'],label=f'Q{qi}')\n",
    "        #ax2[i].pcolormesh(time_track_data[i]['t1x'][0], np.arange(len(time_track_data[i]['t1_data'][0])), time_track_data[i]['t1_data'], shading='auto')\n",
    "        ax3[i].pcolormesh(time_track_data[i]['t2r_data'], label=f'Q{qi}')\n",
    "        ax4[i].pcolormesh(time_track_data[i]['t2e_data'], label=f'Q{qi}')\n",
    "        ax5[i].pcolormesh(time_track_data[i]['r_data'], label=f'Q{qi}')\n",
    "    ax2[i].set_title(f'Q{qi} T1')\n",
    "    ax3[i].set_title(f'Q{qi} T2r')\n",
    "    ax4[i].set_title(f'Q{qi} T2e')\n",
    "\n",
    "ax[0].set_ylabel('$T_1/\\bar{T_1}$')\n",
    "ax[1].set_ylabel('$T_{2r}/\\bar{T_{2r}}$')\n",
    "ax[2].set_ylabel('$T_{2e}/\\bar{T_{2e}}$')\n",
    "ax[3].set_ylabel('Phase')\n",
    "ax[4].set_ylabel('Fidelity')  \n",
    "fig.tight_layout()\n",
    "ax[0].legend(ncol=2)"
   ]
  },
  {
   "cell_type": "code",
   "execution_count": null,
   "metadata": {},
   "outputs": [],
   "source": [
    "ax2[i].pcolormesh(time_track_data[i]['t1x'][0], np.arange(len(time_track_data[i]['t1_data'][0])), time_track_data[i]['t1_data'][j], shading='auto')"
   ]
  },
  {
   "cell_type": "code",
   "execution_count": null,
   "metadata": {},
   "outputs": [],
   "source": [
    "plt.figure()\n",
    "sns.set_palette('coolwarm',20)\n",
    "fig, ax = plt.subplots(1, 1, figsize=(15, 15))\n",
    "#ax = ax.flatten()\n",
    "for i, qi in enumerate(qubit_list):\n",
    "    ax.plot(t1_data[i]/ np.mean(t1_data[i]), label=f'Q{qi}')\n",
    "    \n",
    "ax.legend()"
   ]
  },
  {
   "cell_type": "code",
   "execution_count": null,
   "metadata": {},
   "outputs": [],
   "source": [
    "#first, need to configure active reset and check stark for all. \n",
    "nexp = 3\n",
    "qubit_list =np.arange(20)\n",
    "t1_data = [[] for _ in qubit_list]\n",
    "\n",
    "for i in range(nexp):\n",
    "    for j, qi in enumerate(qubit_list):\n",
    "        t1_cont = meas.T1Experiment(cfg_dict, qi=qi)\n",
    "        t1_data[j].append(t1_cont.data['new_t1'])\n",
    "\n",
    "plt.figure()\n",
    "fig, ax = plt.subplots(5, 4, figsize=(15, 15))\n",
    "ax = ax.flatten()\n",
    "for i, qi in enumerate(qubit_list):\n",
    "    ax[i].set_title(f'Q{qi}')\n",
    "    ax[i].pcolormesh(t1_data[i])\n",
    "    plt.colorbar(ax[i].collections[0], ax=ax[i])"
   ]
  },
  {
   "cell_type": "markdown",
   "metadata": {},
   "source": [
    "## Rabi"
   ]
  },
  {
   "cell_type": "markdown",
   "metadata": {},
   "source": [
    "### Amplitude"
   ]
  },
  {
   "cell_type": "code",
   "execution_count": null,
   "metadata": {},
   "outputs": [],
   "source": [
    "qubit_list = np.arange(16,20)\n",
    "update=True\n",
    "qubit_list=[0]\n",
    "for qi in qubit_list: \n",
    "    amp_rabi = meas.RabiExperiment(cfg_dict,qi=qi)\n",
    "#    amp_rabi = meas.RabiExperiment(cfg_dict,qi=qi, params={'active_reset':True, 'gain':0.25,'freq':4370, 'reps':1000,'soft_avgs':3,'pulse_type':'const','sigma':1})\n",
    "\n",
    "    if update and amp_rabi.status:\n",
    "        config.update_qubit(cfg_path, ('pulses','pi_ge','gain'), amp_rabi.data['pi_length'], qi)\n",
    "        "
   ]
  },
  {
   "cell_type": "markdown",
   "metadata": {},
   "source": [
    "#### Chevron"
   ]
  },
  {
   "cell_type": "code",
   "execution_count": null,
   "metadata": {},
   "outputs": [],
   "source": [
    "d2=[]\n",
    "qubit_list = np.arange(11,20)\n",
    "#qubit_list=[14]\n",
    "for qi in qubit_list: \n",
    "    amp_rabi = meas.RabiChevronExperiment(cfg_dict,qi=qi)#, params={'span_f':40})\n",
    "    d2.append(amp_rabi)\n",
    "handy.plot_many(d2, title='Rabi Chevron Phase', save_path=cfg_dict['expt_path'], chan='phases')"
   ]
  },
  {
   "cell_type": "markdown",
   "metadata": {},
   "source": [
    "#### 2 Qubit Rabi"
   ]
  },
  {
   "cell_type": "code",
   "execution_count": null,
   "metadata": {},
   "outputs": [],
   "source": [
    "qi=[0,12]\n",
    "amp_rabi = meas.Rabi_2Q(cfg_dict,qi=qi, params={'active_reset':False})"
   ]
  },
  {
   "cell_type": "markdown",
   "metadata": {},
   "source": [
    "### Length"
   ]
  },
  {
   "cell_type": "code",
   "execution_count": null,
   "metadata": {},
   "outputs": [],
   "source": [
    "qubit_list = np.arange(10,20)\n",
    "#qubit_list=[3]\n",
    "for qi in qubit_list: \n",
    "    len_rabi = meas.RabiExperiment(cfg_dict,qi=qi, params={'sweep':'length', 'type':'const', 'sigma':1})"
   ]
  },
  {
   "cell_type": "markdown",
   "metadata": {},
   "source": [
    "#### Chevron"
   ]
  },
  {
   "cell_type": "code",
   "execution_count": null,
   "metadata": {},
   "outputs": [],
   "source": [
    "qubit_list = np.arange(20)\n",
    "#qubit_list=[8]\n",
    "for qi in qubit_list: \n",
    "    len_rabi = meas.RabiChevronExperiment(cfg_dict,qi=qi, params={'sweep':'length',\"type\":\"const\", 'sigma':0.205, 'expts_f':60, 'span_f':150, 'gain':0.4,'start_f':6280,'soft_avgs':4})"
   ]
  },
  {
   "cell_type": "markdown",
   "metadata": {},
   "source": [
    "## Ramsey"
   ]
  },
  {
   "cell_type": "code",
   "execution_count": null,
   "metadata": {},
   "outputs": [],
   "source": [
    "step = soc.cycles2us(1)\n",
    "qubit_list=[19]\n",
    "for qi in qubit_list:\n",
    "    t2r = meas.RamseyExperiment(cfg_dict, qi=qi, max_err=10)\n",
    "    if t2r.status:\n",
    "        config.update_qubit(cfg_path, 'f_ge', t2r.data['new_freq'], qi)\n",
    "        auto_cfg = config.update_qubit(cfg_path, 'T2r', t2r.data['best_fit'][3], qi, rng_vals=[1.5, max_t1], sig=2)\n",
    "    else:\n",
    "        print('T2 Ramsey fit failed')"
   ]
  },
  {
   "cell_type": "markdown",
   "metadata": {},
   "source": [
    "### Use Ramsey to recenter"
   ]
  },
  {
   "cell_type": "code",
   "execution_count": null,
   "metadata": {},
   "outputs": [],
   "source": [
    "qubit_list = [2]\n",
    "for qi in qubit_list:\n",
    "    status = qubit_tuning.recenter(qi,cfg_dict)            "
   ]
  },
  {
   "cell_type": "markdown",
   "metadata": {},
   "source": [
    "### Ramsey coherence"
   ]
  },
  {
   "cell_type": "code",
   "execution_count": null,
   "metadata": {},
   "outputs": [],
   "source": [
    "t1= qubit_tuning.get_coherence(meas.RamseyExperiment, qi, cfg_dict,par='T2r')"
   ]
  },
  {
   "cell_type": "markdown",
   "metadata": {},
   "source": [
    "## T1"
   ]
  },
  {
   "cell_type": "code",
   "execution_count": null,
   "metadata": {},
   "outputs": [],
   "source": [
    "qubit_list = [10]\n",
    "# If it's the first time, also set T2r and T2e as guesses \n",
    "update=True\n",
    "first_time=False\n",
    "for qi in qubit_list:\n",
    "    t1 = meas.T1Experiment(cfg_dict, qi=qi)\n",
    "    if update and t1.status: \n",
    "        auto_cfg = config.update_qubit(cfg_path, 'T1', t1.data['new_t1_i'], qi,sig=2, rng_vals=[1.5, max_t1*2])\n",
    "        auto_cfg = config.update_readout(cfg_path, 'final_delay', 6*t1.data['new_t1'], qi, sig=2,rng_vals=[10, 1000])\n",
    "        if first_time:\n",
    "            auto_cfg = config.update_qubit(cfg_path, 'T2r', t1.data['new_t1_i'], qi,sig=2, rng_vals=[1.5, max_t1*2])\n",
    "            auto_cfg = config.update_qubit(cfg_path, 'T2e', 2*t1.data['new_t1'], qi,sig=2, rng_vals=[1.5, max_t1*2])\n"
   ]
  },
  {
   "cell_type": "markdown",
   "metadata": {},
   "source": [
    "### T1 coherence"
   ]
  },
  {
   "cell_type": "code",
   "execution_count": null,
   "metadata": {},
   "outputs": [],
   "source": [
    "qi=0\n",
    "qubit_tuning.get_coherence(meas.T1Experiment,qi=qi,cfg_dict=cfg_dict,par='T1')"
   ]
  },
  {
   "cell_type": "markdown",
   "metadata": {},
   "source": [
    "## Echo"
   ]
  },
  {
   "cell_type": "code",
   "execution_count": null,
   "metadata": {},
   "outputs": [],
   "source": [
    "qubit_list = np.arange(20)\n",
    "qubit_list=[14]\n",
    "for qi in qubit_list:\n",
    "    #status, t2e = tuneup.get_coherence(cfg.make_t2e, i, cfg_dict,'T2e', min_r2=min_r2,tol=tol, max_t1=max_t1)\n",
    "    t2e = meas.RamseyEchoExperiment(cfg_dict, qi=qi, params={'ramsey_freq':'smart'})\n",
    "    if t2e.status:\n",
    "        auto_cfg = config.update_qubit(cfg_path, 'T2e', t2e.data['best_fit'][3], qi,sig=2, rng_vals=[1.5, max_t1*2])"
   ]
  },
  {
   "cell_type": "markdown",
   "metadata": {},
   "source": [
    "### Get echo coherence"
   ]
  },
  {
   "cell_type": "code",
   "execution_count": null,
   "metadata": {},
   "outputs": [],
   "source": [
    "qi=6\n",
    "t2e = qubit_tuning.get_coherence(meas.RamseyEchoExperiment, qi, cfg_dict,'T2e')"
   ]
  },
  {
   "cell_type": "markdown",
   "metadata": {},
   "source": [
    "# Single Shot"
   ]
  },
  {
   "cell_type": "code",
   "execution_count": null,
   "metadata": {},
   "outputs": [],
   "source": [
    "# Single shot \n",
    "qubit_list = np.arange(0,20)\n",
    "qubit_list =[0]\n",
    "for qi in qubit_list: \n",
    "    shot=meas.HistogramExperiment(cfg_dict, qi=qi, params={'shots':20000})\n",
    "    config.update_readout(cfg_path, 'phase', shot.data['angle'], qi);\n",
    "    config.update_readout(cfg_path, 'threshold',shot.data['thresholds'][0], qi);\n",
    "    config.update_readout(cfg_path, 'fidelity', shot.data['fids'][0], qi);\n",
    "    config.update_readout(cfg_path, 'sigma', shot.data['sigma'], qi);\n",
    "    config.update_readout(cfg_path, 'tm', shot.data['tm'],qi);"
   ]
  },
  {
   "cell_type": "markdown",
   "metadata": {},
   "source": [
    "### Readout opt"
   ]
  },
  {
   "cell_type": "markdown",
   "metadata": {},
   "source": [
    "#### General sweep"
   ]
  },
  {
   "cell_type": "code",
   "execution_count": null,
   "metadata": {},
   "outputs": [],
   "source": [
    "qubit_list=np.arange(12,20)\n",
    "qubit_list=[1]\n",
    "\n",
    "update=True\n",
    "params = {'expts_f':1, 'expts_gain':9, 'expts_len':9}\n",
    "for qi in qubit_list: \n",
    "    shotopt=meas.SingleShotOptExperiment(cfg_dict, qi=qi,params=params, style='fine')\n",
    "    if update:\n",
    "        config.update_readout(cfg_path, 'gain', shotopt.data['gain'], qi);\n",
    "        config.update_readout(cfg_path, 'readout_length', shotopt.data['length'], qi);\n",
    "        config.update_readout(cfg_path, 'frequency', shotopt.data['freq'], qi);"
   ]
  },
  {
   "cell_type": "markdown",
   "metadata": {},
   "source": [
    "#### Run optimization until it converges"
   ]
  },
  {
   "cell_type": "code",
   "execution_count": null,
   "metadata": {},
   "outputs": [],
   "source": [
    "qubit_list=np.arange(7)\n",
    "qubit_list=[7]\n",
    "params = {'expts_f':1, 'expts_gain':5, 'expts_len':5}\n",
    "qubit_tuning.meas_opt(cfg_dict, qubit_list, params)"
   ]
  },
  {
   "cell_type": "markdown",
   "metadata": {},
   "source": [
    "#### Play with LO power"
   ]
  },
  {
   "cell_type": "code",
   "execution_count": null,
   "metadata": {},
   "outputs": [],
   "source": [
    "qi = 11\n",
    "gain_vals = [0.0375,0.05] \n",
    "for gain in gain_vals:\n",
    "    config.update_lo(cfg_path, 'gain', gain, qi)\n",
    "    shotopt=meas.SingleShotOptExperiment(cfg_dict, qi=qi,params={'npts_f':5, 'npts_gain':5, 'npts_len':5})"
   ]
  },
  {
   "cell_type": "code",
   "execution_count": null,
   "metadata": {},
   "outputs": [],
   "source": [
    "auto_cfg = config.load(cfg_path)\n",
    "\n",
    "tmv = shotopt.data['tm'][0]\n",
    "tmv[tmv<0.001]=np.nan\n",
    "sns.set_palette('coolwarm', len(tmv))\n",
    "fig, ax = plt.subplots(2,1, figsize=(8,6))\n",
    "#tm = np.transpose(tmv)\n",
    "for i, tm_arr in enumerate(tmv):\n",
    "    gain=shotopt.data['gainpts'][i]\n",
    "    ax[0].plot(shotopt.data['lenpts'],shotopt.data['lenpts']/tm_arr,'o-', label=f\"{gain:.2f}\")\n",
    "#ax[0].legend()\n",
    "ax[0].set_xlabel('Readout Length')\n",
    "ax[0].axhline(y=auto_cfg.device.qubit.T1[shotopt.cfg.expt.qubit[0]], color='k', linestyle='--', label='T1')\n",
    "ax[0].set_ylabel('$T_m/(T_m/T_1)$')\n",
    "\n",
    "sigma = shotopt.data['sigma'][0]\n",
    "\n",
    "for i, s in enumerate(sigma):\n",
    "    gain=shotopt.data['gainpts'][i]\n",
    "    ax[1].loglog(shotopt.data['lenpts'],s,'o-', label=f\"{gain:.2f}\")\n",
    "ax[1].legend()\n",
    "ax[1].set_xlabel('Readout Length')\n",
    "ax[1].set_ylabel('$\\sigma$')\n",
    "fig.tight_layout()"
   ]
  },
  {
   "cell_type": "markdown",
   "metadata": {},
   "source": [
    "### Adjust reps for fidelity "
   ]
  },
  {
   "cell_type": "code",
   "execution_count": null,
   "metadata": {},
   "outputs": [],
   "source": [
    "max_inc = 15 # dont' let it do more than 15x standard number of reps sot hat thtings don't take forever\n",
    "auto_cfg = config.load(cfg_path)\n",
    "qubit_list = [0]\n",
    "for qi in qubit_list:\n",
    "    config.update_readout(cfg_path, 'reps', 1/auto_cfg['device']['readout']['fidelity'][qi]**1.5, qi, rng_vals=[1,max_inc]);"
   ]
  },
  {
   "cell_type": "markdown",
   "metadata": {},
   "source": [
    "### Active reset"
   ]
  },
  {
   "cell_type": "markdown",
   "metadata": {},
   "source": [
    "#### Check active reset at standard threshold"
   ]
  },
  {
   "cell_type": "code",
   "execution_count": null,
   "metadata": {},
   "outputs": [],
   "source": [
    "# Setup reset uses the calibrated angle and runs active reset process at end, but also uses usual final_delay so that it's ok if reset not working\n",
    "qubit_list = np.arange(20)\n",
    "qubit_list=[0]\n",
    "\n",
    "d=[]\n",
    "for qi in qubit_list:\n",
    "    shot = meas.HistogramExperiment(cfg_dict, qi=qi, params={'shots':70000,'active_reset':True, 'setup_reset':True})\n",
    "    shot.check_reset()\n",
    "    config.update_readout(cfg_path, 'reset_e', shot.data['reset_e'], qi)\n",
    "    config.update_readout(cfg_path, 'reset_g', shot.data['reset_g'], qi)\n",
    "    d.append(shot)"
   ]
  },
  {
   "cell_type": "markdown",
   "metadata": {},
   "source": [
    "#### Sweep threshold"
   ]
  },
  {
   "cell_type": "code",
   "execution_count": null,
   "metadata": {},
   "outputs": [],
   "source": [
    "d = []\n",
    "qi=0\n",
    "auto_cfg = config.load(cfg_path)\n",
    "threshold = auto_cfg['device']['readout']['threshold'][qi]\n",
    "thresh = np.linspace(threshold-25,threshold+25,6)\n",
    "#thresh = np.linspace(threshold-10,threshold+10,6)\n",
    "for t in thresh:\n",
    "    shot=meas.HistogramExperiment(cfg_dict, qi=qi, params={'shots':120000,'threshold_v':t, 'active_reset':True,'setup_reset':True})\n",
    "    d.append(shot)\n",
    "    shot.check_reset()\n"
   ]
  },
  {
   "cell_type": "code",
   "execution_count": null,
   "metadata": {},
   "outputs": [],
   "source": [
    "# Check how many qubits meet certain thresholds for success of reset. \n",
    "reset_e = [d[i].data['reset_e'] for i in range(len(d))]\n",
    "reset_g = [d[i].data['reset_g'] for i in range(len(d))]\n",
    "\n",
    "plt.figure()\n",
    "plt.semilogy(reset_e,'o')\n",
    "plt.axhline(y=0.15, color='r', linestyle='--')\n",
    "plt.semilogy(reset_g,'ro')\n",
    "plt.semilogy(np.array(reset_g)/np.array(reset_e), 'ko')\n",
    "plt.axhline(y=1, color='r', linestyle='--')\n",
    "#plt.show()"
   ]
  },
  {
   "cell_type": "markdown",
   "metadata": {},
   "source": [
    "#### Turn off active reset for all config chans"
   ]
  },
  {
   "cell_type": "code",
   "execution_count": null,
   "metadata": {},
   "outputs": [],
   "source": [
    "for qi in range(20):\n",
    "    config.update_readout(cfg_path, 'active_reset',False, qi)"
   ]
  },
  {
   "cell_type": "markdown",
   "metadata": {},
   "source": [
    "#### Turn on active reset for channels where it seems to be working"
   ]
  },
  {
   "cell_type": "code",
   "execution_count": null,
   "metadata": {},
   "outputs": [],
   "source": [
    "e_success = 0.15 # Ratio of e proportion after active reset compared to before\n",
    "g_vs_e = 2 # Ratio of g proportion to e proportion after active reset\n",
    "\n",
    "auto_cfg = config.load(cfg_path)\n",
    "reset_e = auto_cfg['device']['readout']['reset_e']\n",
    "reset_g = auto_cfg['device']['readout']['reset_g']\n",
    "result = np.array(reset_e)< e_success | np.array(reset_g)/np.array(reset_e)<g_vs_e\n",
    "for qi in range(20):\n",
    "    config.update_readout(cfg_path, 'active_reset',bool(result[qi]), qi)"
   ]
  },
  {
   "cell_type": "markdown",
   "metadata": {},
   "source": [
    "#### Check reset (plotting result of reset)"
   ]
  },
  {
   "cell_type": "code",
   "execution_count": null,
   "metadata": {},
   "outputs": [],
   "source": [
    "qubit_list = np.arange(11,20)\n",
    "\n",
    "for qi in qubit_list:\n",
    "    shot = meas.HistogramExperiment(cfg_dict, qi=qi, params={'shots':50000,'active_reset':True})\n",
    "    shot.check_reset()"
   ]
  },
  {
   "cell_type": "markdown",
   "metadata": {},
   "source": [
    "# Other"
   ]
  },
  {
   "cell_type": "markdown",
   "metadata": {},
   "source": [
    "## Chi"
   ]
  },
  {
   "cell_type": "code",
   "execution_count": null,
   "metadata": {},
   "outputs": [],
   "source": [
    "# Need a tuned up pi pulse for this\n",
    "#for i in range(num_qubits):\n",
    "qubit_list = [7]\n",
    "for qi in qubit_list: \n",
    "    chi, chi_val=tuneup.check_chi(cfg_dict, qi)\n",
    "    auto_cfg = config.update_readout(cfg_path, 'chi', float(chi_val), qi)\n",
    "#auto_cfg = config.update_readout(cfg_path, 'frequency', float(chi.data['freq_opt']), i)"
   ]
  },
  {
   "cell_type": "markdown",
   "metadata": {},
   "source": [
    "# 2 Qubit"
   ]
  },
  {
   "cell_type": "code",
   "execution_count": null,
   "metadata": {},
   "outputs": [],
   "source": [
    "t12q = meas.T1_2Q(cfg_dict, qi=[10,0], params={'active_reset':True})"
   ]
  },
  {
   "cell_type": "code",
   "execution_count": null,
   "metadata": {},
   "outputs": [],
   "source": [
    "rabi2q = meas.Rabi_2Q(cfg_dict, qi=[10,0], params={'active_reset':True})"
   ]
  },
  {
   "cell_type": "markdown",
   "metadata": {},
   "source": [
    "# EF "
   ]
  },
  {
   "cell_type": "code",
   "execution_count": null,
   "metadata": {},
   "outputs": [],
   "source": [
    "## Compare expected EF to actual\n",
    "auto_cfg = config.load(cfg_path)\n",
    "\n",
    "alpha=np.array(auto_cfg.device.qubit.f_ef)-np.array(auto_cfg.device.qubit.f_ge)\n",
    "corr = np.array([188,210,168,186,155,171,187,145,157,169,188,210,168,186,155,171,187,145,157,169])\n",
    "\n",
    "alpha+corr\n",
    "\n",
    "#f_ef=np.array(auto_cfg.device.qubit.f_ge)-corr\n",
    "#f_ef\n",
    "#6,7,8, 11 16 18"
   ]
  },
  {
   "cell_type": "markdown",
   "metadata": {},
   "source": [
    "### Initial setting of frequencies based on guess for alpha"
   ]
  },
  {
   "cell_type": "code",
   "execution_count": null,
   "metadata": {},
   "outputs": [],
   "source": [
    "# Initial set of the frequencyies based on guess for alpha \n",
    "alpha = -180\n",
    "qubit_list = np.arange(20)\n",
    "auto_cfg = config.load(cfg_path)\n",
    "for i in qubit_list: \n",
    "    f_ge = auto_cfg['device']['qubit']['f_ge'][i]\n",
    "    auto_cfg = config.update_qubit(cfg_path, 'f_ef', f_ge+alpha, i)"
   ]
  },
  {
   "cell_type": "markdown",
   "metadata": {},
   "source": [
    "## Spectroscopy EF"
   ]
  },
  {
   "cell_type": "markdown",
   "metadata": {},
   "source": [
    "### General search"
   ]
  },
  {
   "cell_type": "code",
   "execution_count": null,
   "metadata": {},
   "outputs": [],
   "source": [
    "qubit_list= np.arange(1,20)\n",
    "bad_qubits=[]\n",
    "qubit_list=[0]\n",
    "for qi in qubit_list:\n",
    "    status, ntries = qubit_tuning.find_spec(qi, cfg_dict, start='medium', freq='ef')\n",
    "    if not status:\n",
    "        bad_qubits.append(qi)"
   ]
  },
  {
   "cell_type": "markdown",
   "metadata": {},
   "source": [
    "### Specific width"
   ]
  },
  {
   "cell_type": "code",
   "execution_count": null,
   "metadata": {},
   "outputs": [],
   "source": [
    "# You may want to update this frequency, which will be the center of the scan. \n",
    "#style huge, coarse, medium, fine \n",
    "update=True\n",
    "qubit_list = np.arange(10)\n",
    "for qi in qubit_list:\n",
    "    qspec=meas.QubitSpec(cfg_dict, qi=qi, style='medium', params={'checkEF':True})#, params={'span':500, 'expts':1000,'reps':500,'gain':0.2})\n",
    "    if update and qspec.status:\n",
    "        auto_cfg = config.update_qubit(cfg_path, 'f_ef', float(qspec.data[\"best_fit\"][2]), qi)"
   ]
  },
  {
   "cell_type": "markdown",
   "metadata": {},
   "source": [
    "## Rabi EF"
   ]
  },
  {
   "cell_type": "code",
   "execution_count": null,
   "metadata": {},
   "outputs": [],
   "source": [
    "# If first time, initialize the sigma and gain to those of the ge \n",
    "first_time =False\n",
    "update=True\n",
    "\n",
    "qubit_list = np.arange(1,20)\n",
    "qubit_list=[0]\n",
    "\n",
    "bad_qubits = []\n",
    "auto_cfg = config.load(cfg_path)\n",
    "\n",
    "for qi in qubit_list: \n",
    "    if first_time:\n",
    "        #config.update_qubit(cfg_path, 'f_ef', auto_cfg.device.qubit.f_spec_ef[qi], qi)\n",
    "        auto_cfg = config.update_qubit(cfg_path, ('pulses','pi_ef','sigma'), auto_cfg['device']['qubit']['pulses']['pi_ge']['sigma'][qi], qi)\n",
    "        auto_cfg = config.update_qubit(cfg_path, ('pulses','pi_ef','gain'), auto_cfg['device']['qubit']['pulses']['pi_ge']['gain'][qi], qi)\n",
    "    amp_rabi = meas.RabiExperiment(cfg_dict,qi=qi, params={'checkEF':True})\n",
    "    if update and amp_rabi.status:\n",
    "        config.update_qubit(cfg_path, ('pulses','pi_ef','gain'), amp_rabi.data['pi_length'], qi)\n",
    "    else:\n",
    "        print(f'Amplitude Rabi fit failed for qubit {qi}')\n",
    "        bad_qubits.append(qi)"
   ]
  },
  {
   "cell_type": "markdown",
   "metadata": {},
   "source": [
    "## Qubit Temperature"
   ]
  },
  {
   "cell_type": "code",
   "execution_count": null,
   "metadata": {},
   "outputs": [],
   "source": [
    "qubit_list = np.arange(1)\n",
    "qubit_list=[0]\n",
    "for qi in qubit_list: \n",
    "    temp, pop = tuneup.measure_temp(cfg_dict, qi=qi)\n",
    "    auto_cfg = config.update_qubit(cfg_path, 'temp', float(temp), qi)\n",
    "    auto_cfg = config.update_qubit(cfg_path, 'pop', float(pop), qi)"
   ]
  },
  {
   "cell_type": "markdown",
   "metadata": {},
   "source": [
    "## Ramsey EF"
   ]
  },
  {
   "cell_type": "code",
   "execution_count": null,
   "metadata": {},
   "outputs": [],
   "source": [
    "qubit_list=np.arange(1,20)\n",
    "qubit_list=[10]\n",
    "for qi in qubit_list:\n",
    "    t2r = meas.RamseyExperiment(cfg_dict, qi=qi, params={'ramsey_freq':0.2, 'checkEF':True, 'span':20})\n",
    "\n",
    "    if t2r.status:\n",
    "        config.update_qubit(cfg_path, 'f_ef', t2r.data['new_freq'], qi)\n",
    "        #auto_cfg = config.update_qubit(cfg_path, 'T2r', t2r.data['best_fit'][3], qi, rng_vals=[1.5, max_t1], sig=2)\n",
    "    else:\n",
    "        print('T2 Ramsey fit failed')"
   ]
  },
  {
   "cell_type": "markdown",
   "metadata": {},
   "source": [
    "# Stark"
   ]
  },
  {
   "cell_type": "markdown",
   "metadata": {},
   "source": [
    "## Ramsey"
   ]
  },
  {
   "cell_type": "markdown",
   "metadata": {},
   "source": [
    "### Single experiment"
   ]
  },
  {
   "cell_type": "code",
   "execution_count": null,
   "metadata": {},
   "outputs": [],
   "source": [
    "qi=2\n",
    "meas.RamseyStarkExperiment(cfg_dict, qi=qi, params={'stark_gain':1,'step':0.01,'df':40})"
   ]
  },
  {
   "cell_type": "code",
   "execution_count": null,
   "metadata": {},
   "outputs": [],
   "source": [
    "auto_cfg = config.load(cfg_path)\n",
    "def quad_fit(x, a, b, c):\n",
    "    return a*x**2 + b*x + c\n",
    "max_freq = []\n",
    "max_freq_neg = []\n",
    "alpha = np.array(auto_cfg.device.qubit.f_ge) - np.array(auto_cfg.device.qubit.f_ef)\n",
    "df_pos = 45 \n",
    "df_neg = 50\n",
    "for i in range(len(auto_cfg.stark.l)):\n",
    "    max_freq.append(quad_fit(1, auto_cfg.stark.q[i], auto_cfg.stark.l[i], auto_cfg.stark.o[i]))\n",
    "    max_freq_neg.append(quad_fit(1, auto_cfg.stark.qneg[i], auto_cfg.stark.lneg[i], auto_cfg.stark.oneg[i]))\n",
    "    \n",
    "coef_pos = alpha/(alpha+df_pos)\n",
    "coef_neg = alpha/(alpha-df_neg)\n",
    "fig, ax = plt.subplots(2,1, figsize=(7,7))\n",
    "ax[0].plot(max_freq,'o')\n",
    "ax[0].plot(max_freq_neg,'o')\n",
    "\n",
    "ax[1].plot(coef_pos,'o')\n",
    "ax[1].plot(coef_neg,'o')"
   ]
  },
  {
   "cell_type": "markdown",
   "metadata": {},
   "source": [
    "### Sweep frequency"
   ]
  },
  {
   "cell_type": "code",
   "execution_count": null,
   "metadata": {},
   "outputs": [],
   "source": [
    "qubit_list = np.arange(3,20)\n",
    "qubit_list=[0]\n",
    "for qi in qubit_list:\n",
    "    t2rstark=meas.RamseyStarkFreqExperiment(cfg_dict, qi=qi, params={'step':1/430+0.001, 'stark_gain':0.22, 'start_df':70, 'end_df':300, 'expts_df':25})"
   ]
  },
  {
   "cell_type": "code",
   "execution_count": null,
   "metadata": {},
   "outputs": [],
   "source": [
    "qubit_list = np.arange(3,20)\n",
    "qubit_list=[0]\n",
    "for qi in qubit_list:\n",
    "    t2rstark=meas.RamseyStarkFreqExperiment(cfg_dict, qi=qi, params={'step':1/430+0.001, 'stark_gain':0.23, 'start_df':70, 'end_df':300, 'expts_df':25})"
   ]
  },
  {
   "cell_type": "markdown",
   "metadata": {},
   "source": [
    "### Calibrate stark power positive freq"
   ]
  },
  {
   "cell_type": "code",
   "execution_count": null,
   "metadata": {},
   "outputs": [],
   "source": [
    "qubit_list = np.arange(20)\n",
    "qubit_list=[0]\n",
    "d=[]\n",
    "for qi in qubit_list:\n",
    "    t2rstark=meas.RamseyStarkPowerExperiment(cfg_dict, qi=qi, params={'step':1/430+0.001, 'expts_gain':12, 'df':100, 'start_gain':0.05, 'end_gain':0.3})\n",
    "    d.append(t2rstark)\n",
    "    config.update_stark(cfg_path, 'q', t2rstark.data['quad_fit'][0], qi)\n",
    "    config.update_stark(cfg_path, 'l', t2rstark.data['quad_fit'][1], qi)\n",
    "    config.update_stark(cfg_path, 'o', t2rstark.data['quad_fit'][2], qi)"
   ]
  },
  {
   "cell_type": "markdown",
   "metadata": {},
   "source": [
    "### Negative frequency"
   ]
  },
  {
   "cell_type": "code",
   "execution_count": null,
   "metadata": {},
   "outputs": [],
   "source": [
    "#qubit_list = np.arange(20)\n",
    "d=[]\n",
    "qubit_list=[0]\n",
    "for qi in qubit_list:\n",
    "    t2rstark=meas.RamseyStarkPowerExperiment(cfg_dict, qi=qi, params={'step':1/430+0.001, 'expts_gain':12, 'df':-90, 'start_gain':0.05, 'end_gain':0.2, 'soft_avgs':2})\n",
    "    d.append(t2rstark)\n",
    "    config.update_stark(cfg_path, 'qneg', t2rstark.data['quad_fit'][0], qi)\n",
    "    config.update_stark(cfg_path, 'lneg', t2rstark.data['quad_fit'][1], qi)\n",
    "    config.update_stark(cfg_path, 'oneg', t2rstark.data['quad_fit'][2], qi)\n",
    "#handy.plot_many(d, title='Ramsey Stark', save_path=cfg_dict['expt_path'])"
   ]
  },
  {
   "cell_type": "markdown",
   "metadata": {},
   "source": [
    "## T1"
   ]
  },
  {
   "cell_type": "markdown",
   "metadata": {},
   "source": [
    "### Single exp"
   ]
  },
  {
   "cell_type": "code",
   "execution_count": null,
   "metadata": {},
   "outputs": [],
   "source": [
    "t1 = meas.T1StarkExperiment(cfg_dict, qi=1, params={'active_reset':True, 'df':100}) "
   ]
  },
  {
   "cell_type": "markdown",
   "metadata": {},
   "source": [
    "### Gain sweep"
   ]
  },
  {
   "cell_type": "code",
   "execution_count": null,
   "metadata": {},
   "outputs": [],
   "source": [
    "qi=0\n",
    "t1 = meas.T1StarkPowerExperiment(cfg_dict, qi=qi, params={'df':-90,'start_gain':0.02,'end_gain':0.17,'start':5, 'span':100})#, 'start':100,'span':0.34, 'expts':100, 'soft_avgs':3})"
   ]
  },
  {
   "cell_type": "markdown",
   "metadata": {},
   "source": [
    "### Freq sweep"
   ]
  },
  {
   "cell_type": "code",
   "execution_count": null,
   "metadata": {},
   "outputs": [],
   "source": [
    "t1 = meas.T1StarkFreqExperiment(cfg_dict, qi=0, params={'reps':800, 'span':0.5, 'expts':150, 'span_f':50, 'start_df':50})"
   ]
  },
  {
   "cell_type": "code",
   "execution_count": null,
   "metadata": {},
   "outputs": [],
   "source": [
    "len(t1.data['avgi'])\n",
    "len(t1.data['avgi'][0])\n",
    "\n",
    "np.max(t1.data['avgi'], axis=1)\n",
    "plt.figure()\n",
    "plt.plot(np.max(t1.data['avgi'], axis=1))"
   ]
  },
  {
   "cell_type": "markdown",
   "metadata": {},
   "source": [
    "### Single linear power sweep"
   ]
  },
  {
   "cell_type": "code",
   "execution_count": null,
   "metadata": {},
   "outputs": [],
   "source": [
    "t1_cont = meas.T1StarkPowerSingle(cfg_dict, qi=0, params={\"soft_avgs\":4})"
   ]
  },
  {
   "cell_type": "markdown",
   "metadata": {},
   "source": [
    "### Run linear scan for multiple qubits"
   ]
  },
  {
   "cell_type": "code",
   "execution_count": null,
   "metadata": {},
   "outputs": [],
   "source": [
    "#first, need to configure active reset and check stark for all. \n",
    "nexp = 3\n",
    "qubit_list =[1,2]#2,4,5,6,7]\n",
    "expts = 200\n",
    "t1_data = [[] for _ in qubit_list]\n",
    "\n",
    "for i in range(nexp):\n",
    "    for j, qi in enumerate(qubit_list):\n",
    "        t1_cont = meas.T1StarkPowerSingle(cfg_dict, qi=qi, params={ \"soft_avgs\":2,'expts':100})\n",
    "        t1_data[j].append(t1_cont.data['t1'])\n",
    "\n",
    "plt.figure()\n",
    "fig, ax = plt.subplots(3, 2, figsize=(10, 10))\n",
    "ax = ax.flatten()\n",
    "for i, qi in enumerate(qubit_list):\n",
    "    ax[i].set_title(f'Q{qi}')\n",
    "    ax[i].pcolormesh(t1_data[i])\n",
    "    plt.colorbar(ax[i].collections[0], ax=ax[i])\n"
   ]
  },
  {
   "cell_type": "code",
   "execution_count": null,
   "metadata": {},
   "outputs": [],
   "source": [
    "plt.figure()\n",
    "fig, ax = plt.subplots(3, 2, figsize=(10, 10))\n",
    "ax = ax.flatten()\n",
    "for i, qi in enumerate(qubit_list):\n",
    "    ax[i].set_title(f'Q{qi}')\n",
    "    ax[i].pcolormesh(t1_data[i])\n",
    "    plt.colorbar(ax[i].collections[0], ax=ax[i])"
   ]
  },
  {
   "cell_type": "code",
   "execution_count": null,
   "metadata": {},
   "outputs": [],
   "source": [
    "t1 = meas.T1StarkPowerContTimeExperiment(cfg_dict, qi=0, params={'count':2, 'gain_expts':10})"
   ]
  },
  {
   "cell_type": "markdown",
   "metadata": {},
   "source": [
    "### Run loop sweep trying to sweep frequency linearly "
   ]
  },
  {
   "cell_type": "code",
   "execution_count": null,
   "metadata": {},
   "outputs": [],
   "source": [
    "d=[]\n",
    "for i in range(5):\n",
    "    t1stark=meas.T1StarkPowerQuadSingle(cfg_dict, qi=0, params={'stop_f':20, 'df_pos':200, 'df_neg':-90})\n",
    "    d.append(t1stark)\n",
    "\n",
    "concatenated_data = np.concatenate([d[i].data['avgi'] for i in range(1, len(d))], axis=1)\n",
    "\n",
    "#print(concatenated_data)\n",
    "\n",
    "plt.figure()\n",
    "plt.pcolormesh(concatenated_data)"
   ]
  },
  {
   "cell_type": "markdown",
   "metadata": {},
   "source": [
    "### Calib sweep"
   ]
  },
  {
   "cell_type": "code",
   "execution_count": 17,
   "metadata": {},
   "outputs": [
    {
     "data": {
      "application/vnd.jupyter.widget-view+json": {
       "model_id": "06e993fada67483b9354f3ec4099f209",
       "version_major": 2,
       "version_minor": 0
      },
      "text/plain": [
       "  0%|          | 0/20000 [00:00<?, ?it/s]"
      ]
     },
     "metadata": {},
     "output_type": "display_data"
    },
    {
     "ename": "KeyboardInterrupt",
     "evalue": "",
     "output_type": "error",
     "traceback": [
      "\u001b[1;31m---------------------------------------------------------------------------\u001b[0m",
      "\u001b[1;31mKeyboardInterrupt\u001b[0m                         Traceback (most recent call last)",
      "Cell \u001b[1;32mIn[17], line 5\u001b[0m\n\u001b[0;32m      3\u001b[0m \u001b[38;5;28;01mfor\u001b[39;00m i \u001b[38;5;129;01min\u001b[39;00m \u001b[38;5;28mrange\u001b[39m(\u001b[38;5;241m300\u001b[39m):\n\u001b[0;32m      4\u001b[0m     \u001b[38;5;28;01mif\u001b[39;00m i \u001b[38;5;241m%\u001b[39m \u001b[38;5;241m12\u001b[39m \u001b[38;5;241m==\u001b[39m \u001b[38;5;241m0\u001b[39m:\n\u001b[1;32m----> 5\u001b[0m         shot \u001b[38;5;241m=\u001b[39m \u001b[43mmeas\u001b[49m\u001b[38;5;241;43m.\u001b[39;49m\u001b[43mHistogramExperiment\u001b[49m\u001b[43m(\u001b[49m\u001b[43mcfg_dict\u001b[49m\u001b[43m,\u001b[49m\u001b[43m \u001b[49m\u001b[43mqi\u001b[49m\u001b[38;5;241;43m=\u001b[39;49m\u001b[43mqi\u001b[49m\u001b[43m,\u001b[49m\u001b[43m \u001b[49m\u001b[43mparams\u001b[49m\u001b[38;5;241;43m=\u001b[39;49m\u001b[43m{\u001b[49m\u001b[38;5;124;43m'\u001b[39;49m\u001b[38;5;124;43mshots\u001b[39;49m\u001b[38;5;124;43m'\u001b[39;49m\u001b[43m:\u001b[49m\u001b[38;5;241;43m20000\u001b[39;49m\u001b[43m}\u001b[49m\u001b[43m)\u001b[49m\n\u001b[0;32m      6\u001b[0m         config\u001b[38;5;241m.\u001b[39mupdate_readout(cfg_path, \u001b[38;5;124m'\u001b[39m\u001b[38;5;124mthreshold\u001b[39m\u001b[38;5;124m'\u001b[39m,shot\u001b[38;5;241m.\u001b[39mdata[\u001b[38;5;124m'\u001b[39m\u001b[38;5;124mthresholds\u001b[39m\u001b[38;5;124m'\u001b[39m][\u001b[38;5;241m0\u001b[39m], qi);\n\u001b[0;32m      7\u001b[0m         config\u001b[38;5;241m.\u001b[39mupdate_readout(cfg_path, \u001b[38;5;124m'\u001b[39m\u001b[38;5;124mphase\u001b[39m\u001b[38;5;124m'\u001b[39m, shot\u001b[38;5;241m.\u001b[39mdata[\u001b[38;5;124m'\u001b[39m\u001b[38;5;124mangle\u001b[39m\u001b[38;5;124m'\u001b[39m], qi);\n",
      "File \u001b[1;32mc:\\_Lib\\python\\tprocv2\\slab_rfsoc_expts\\experiments\\single_qubit\\single_shot.py:480\u001b[0m, in \u001b[0;36mHistogramExperiment.__init__\u001b[1;34m(self, cfg_dict, prefix, progress, qi, go, check_f, params, style, display)\u001b[0m\n\u001b[0;32m    477\u001b[0m     \u001b[38;5;28msuper\u001b[39m()\u001b[38;5;241m.\u001b[39mconfigure_reset()\n\u001b[0;32m    479\u001b[0m \u001b[38;5;28;01mif\u001b[39;00m go:\n\u001b[1;32m--> 480\u001b[0m     \u001b[38;5;28;43mself\u001b[39;49m\u001b[38;5;241;43m.\u001b[39;49m\u001b[43mgo\u001b[49m\u001b[43m(\u001b[49m\u001b[43manalyze\u001b[49m\u001b[38;5;241;43m=\u001b[39;49m\u001b[38;5;28;43;01mTrue\u001b[39;49;00m\u001b[43m,\u001b[49m\u001b[43m \u001b[49m\u001b[43mdisplay\u001b[49m\u001b[38;5;241;43m=\u001b[39;49m\u001b[43mdisplay\u001b[49m\u001b[43m,\u001b[49m\u001b[43m \u001b[49m\u001b[43mprogress\u001b[49m\u001b[38;5;241;43m=\u001b[39;49m\u001b[43mprogress\u001b[49m\u001b[43m,\u001b[49m\u001b[43m \u001b[49m\u001b[43msave\u001b[49m\u001b[38;5;241;43m=\u001b[39;49m\u001b[38;5;28;43;01mTrue\u001b[39;49;00m\u001b[43m)\u001b[49m\n",
      "File \u001b[1;32mc:\\_Lib\\python\\tprocv2\\slab_rfsoc_expts\\exp_handling\\experiment.py:121\u001b[0m, in \u001b[0;36mExperiment.go\u001b[1;34m(self, save, analyze, display, progress)\u001b[0m\n\u001b[0;32m    118\u001b[0m \u001b[38;5;28;01mdef\u001b[39;00m \u001b[38;5;21mgo\u001b[39m(\u001b[38;5;28mself\u001b[39m, save\u001b[38;5;241m=\u001b[39m\u001b[38;5;28;01mFalse\u001b[39;00m, analyze\u001b[38;5;241m=\u001b[39m\u001b[38;5;28;01mFalse\u001b[39;00m, display\u001b[38;5;241m=\u001b[39m\u001b[38;5;28;01mFalse\u001b[39;00m, progress\u001b[38;5;241m=\u001b[39m\u001b[38;5;28;01mFalse\u001b[39;00m):\n\u001b[0;32m    119\u001b[0m     \u001b[38;5;66;03m# get data\u001b[39;00m\n\u001b[1;32m--> 121\u001b[0m     data\u001b[38;5;241m=\u001b[39m\u001b[38;5;28;43mself\u001b[39;49m\u001b[38;5;241;43m.\u001b[39;49m\u001b[43macquire\u001b[49m\u001b[43m(\u001b[49m\u001b[43mprogress\u001b[49m\u001b[43m)\u001b[49m\n\u001b[0;32m    122\u001b[0m     \u001b[38;5;28;01mif\u001b[39;00m analyze:\n\u001b[0;32m    123\u001b[0m         data\u001b[38;5;241m=\u001b[39m\u001b[38;5;28mself\u001b[39m\u001b[38;5;241m.\u001b[39manalyze(data)\n",
      "File \u001b[1;32mc:\\_Lib\\python\\tprocv2\\slab_rfsoc_expts\\experiments\\single_qubit\\single_shot.py:499\u001b[0m, in \u001b[0;36mHistogramExperiment.acquire\u001b[1;34m(self, progress, debug)\u001b[0m\n\u001b[0;32m    496\u001b[0m cfg\u001b[38;5;241m.\u001b[39mexpt\u001b[38;5;241m.\u001b[39mpulse_f \u001b[38;5;241m=\u001b[39m \u001b[38;5;28;01mFalse\u001b[39;00m\n\u001b[0;32m    498\u001b[0m histpro \u001b[38;5;241m=\u001b[39m HistogramProgram(soccfg\u001b[38;5;241m=\u001b[39m\u001b[38;5;28mself\u001b[39m\u001b[38;5;241m.\u001b[39msoccfg, final_delay\u001b[38;5;241m=\u001b[39mfinal_delay, cfg\u001b[38;5;241m=\u001b[39mcfg)\n\u001b[1;32m--> 499\u001b[0m iq_list \u001b[38;5;241m=\u001b[39m \u001b[43mhistpro\u001b[49m\u001b[38;5;241;43m.\u001b[39;49m\u001b[43macquire\u001b[49m\u001b[43m(\u001b[49m\n\u001b[0;32m    500\u001b[0m \u001b[43m    \u001b[49m\u001b[38;5;28;43mself\u001b[39;49m\u001b[38;5;241;43m.\u001b[39;49m\u001b[43mim\u001b[49m\u001b[43m[\u001b[49m\u001b[38;5;28;43mself\u001b[39;49m\u001b[38;5;241;43m.\u001b[39;49m\u001b[43mcfg\u001b[49m\u001b[38;5;241;43m.\u001b[39;49m\u001b[43maliases\u001b[49m\u001b[38;5;241;43m.\u001b[39;49m\u001b[43msoc\u001b[49m\u001b[43m]\u001b[49m\u001b[43m,\u001b[49m\n\u001b[0;32m    501\u001b[0m \u001b[43m    \u001b[49m\u001b[43mthreshold\u001b[49m\u001b[38;5;241;43m=\u001b[39;49m\u001b[38;5;28;43;01mNone\u001b[39;49;00m\u001b[43m,\u001b[49m\n\u001b[0;32m    502\u001b[0m \u001b[43m    \u001b[49m\u001b[43mload_pulses\u001b[49m\u001b[38;5;241;43m=\u001b[39;49m\u001b[38;5;28;43;01mTrue\u001b[39;49;00m\u001b[43m,\u001b[49m\n\u001b[0;32m    503\u001b[0m \u001b[43m    \u001b[49m\u001b[43mprogress\u001b[49m\u001b[38;5;241;43m=\u001b[39;49m\u001b[43mprogress\u001b[49m\u001b[43m,\u001b[49m\n\u001b[0;32m    504\u001b[0m \u001b[43m\u001b[49m\u001b[43m)\u001b[49m\n\u001b[0;32m    505\u001b[0m data[\u001b[38;5;124m\"\u001b[39m\u001b[38;5;124mIg\u001b[39m\u001b[38;5;124m\"\u001b[39m] \u001b[38;5;241m=\u001b[39m iq_list[\u001b[38;5;241m0\u001b[39m][\u001b[38;5;241m0\u001b[39m][:, \u001b[38;5;241m0\u001b[39m]\n\u001b[0;32m    506\u001b[0m data[\u001b[38;5;124m\"\u001b[39m\u001b[38;5;124mQg\u001b[39m\u001b[38;5;124m\"\u001b[39m] \u001b[38;5;241m=\u001b[39m iq_list[\u001b[38;5;241m0\u001b[39m][\u001b[38;5;241m0\u001b[39m][:, \u001b[38;5;241m1\u001b[39m]\n",
      "File \u001b[1;32mC:\\_Lib\\python\\qick\\qick_lib\\qick\\qick_asm.py:1766\u001b[0m, in \u001b[0;36mAcquireMixin.acquire\u001b[1;34m(self, soc, soft_avgs, load_pulses, start_src, threshold, angle, progress, remove_offset)\u001b[0m\n\u001b[0;32m   1763\u001b[0m soc\u001b[38;5;241m.\u001b[39mstart_readout(total_count, counter_addr\u001b[38;5;241m=\u001b[39m\u001b[38;5;28mself\u001b[39m\u001b[38;5;241m.\u001b[39mcounter_addr,\n\u001b[0;32m   1764\u001b[0m                        ch_list\u001b[38;5;241m=\u001b[39m\u001b[38;5;28mlist\u001b[39m(\u001b[38;5;28mself\u001b[39m\u001b[38;5;241m.\u001b[39mro_chs), reads_per_shot\u001b[38;5;241m=\u001b[39m\u001b[38;5;28mself\u001b[39m\u001b[38;5;241m.\u001b[39mreads_per_shot)\n\u001b[0;32m   1765\u001b[0m \u001b[38;5;28;01mwhile\u001b[39;00m count\u001b[38;5;241m<\u001b[39mtotal_count:\n\u001b[1;32m-> 1766\u001b[0m     new_data \u001b[38;5;241m=\u001b[39m obtain(\u001b[43msoc\u001b[49m\u001b[38;5;241;43m.\u001b[39;49m\u001b[43mpoll_data\u001b[49m\u001b[43m(\u001b[49m\u001b[43m)\u001b[49m)\n\u001b[0;32m   1767\u001b[0m     \u001b[38;5;28;01mfor\u001b[39;00m new_points, (d, s) \u001b[38;5;129;01min\u001b[39;00m new_data:\n\u001b[0;32m   1768\u001b[0m         \u001b[38;5;28;01mfor\u001b[39;00m ii, nreads \u001b[38;5;129;01min\u001b[39;00m \u001b[38;5;28menumerate\u001b[39m(\u001b[38;5;28mself\u001b[39m\u001b[38;5;241m.\u001b[39mreads_per_shot):\n\u001b[0;32m   1769\u001b[0m             \u001b[38;5;66;03m#print(count, new_points, nreads, d[ii].shape, total_count)\u001b[39;00m\n",
      "File \u001b[1;32mc:\\Users\\slab\\anaconda3\\envs\\slab\\lib\\site-packages\\Pyro4\\core.py:185\u001b[0m, in \u001b[0;36m_RemoteMethod.__call__\u001b[1;34m(self, *args, **kwargs)\u001b[0m\n\u001b[0;32m    183\u001b[0m \u001b[38;5;28;01mfor\u001b[39;00m attempt \u001b[38;5;129;01min\u001b[39;00m \u001b[38;5;28mrange\u001b[39m(\u001b[38;5;28mself\u001b[39m\u001b[38;5;241m.\u001b[39m__max_retries \u001b[38;5;241m+\u001b[39m \u001b[38;5;241m1\u001b[39m):\n\u001b[0;32m    184\u001b[0m     \u001b[38;5;28;01mtry\u001b[39;00m:\n\u001b[1;32m--> 185\u001b[0m         \u001b[38;5;28;01mreturn\u001b[39;00m \u001b[38;5;28;43mself\u001b[39;49m\u001b[38;5;241;43m.\u001b[39;49m\u001b[43m__send\u001b[49m\u001b[43m(\u001b[49m\u001b[38;5;28;43mself\u001b[39;49m\u001b[38;5;241;43m.\u001b[39;49m\u001b[43m__name\u001b[49m\u001b[43m,\u001b[49m\u001b[43m \u001b[49m\u001b[43margs\u001b[49m\u001b[43m,\u001b[49m\u001b[43m \u001b[49m\u001b[43mkwargs\u001b[49m\u001b[43m)\u001b[49m\n\u001b[0;32m    186\u001b[0m     \u001b[38;5;28;01mexcept\u001b[39;00m (errors\u001b[38;5;241m.\u001b[39mConnectionClosedError, errors\u001b[38;5;241m.\u001b[39mTimeoutError):\n\u001b[0;32m    187\u001b[0m         \u001b[38;5;66;03m# only retry for recoverable network errors\u001b[39;00m\n\u001b[0;32m    188\u001b[0m         \u001b[38;5;28;01mif\u001b[39;00m attempt \u001b[38;5;241m>\u001b[39m\u001b[38;5;241m=\u001b[39m \u001b[38;5;28mself\u001b[39m\u001b[38;5;241m.\u001b[39m__max_retries:\n\u001b[0;32m    189\u001b[0m             \u001b[38;5;66;03m# last attempt, raise the exception\u001b[39;00m\n",
      "File \u001b[1;32mc:\\Users\\slab\\anaconda3\\envs\\slab\\lib\\site-packages\\Pyro4\\core.py:453\u001b[0m, in \u001b[0;36mProxy._pyroInvoke\u001b[1;34m(self, methodname, vargs, kwargs, flags, objectId)\u001b[0m\n\u001b[0;32m    451\u001b[0m     \u001b[38;5;28;01mreturn\u001b[39;00m \u001b[38;5;28;01mNone\u001b[39;00m  \u001b[38;5;66;03m# oneway call, no response data\u001b[39;00m\n\u001b[0;32m    452\u001b[0m \u001b[38;5;28;01melse\u001b[39;00m:\n\u001b[1;32m--> 453\u001b[0m     msg \u001b[38;5;241m=\u001b[39m \u001b[43mmessage\u001b[49m\u001b[38;5;241;43m.\u001b[39;49m\u001b[43mMessage\u001b[49m\u001b[38;5;241;43m.\u001b[39;49m\u001b[43mrecv\u001b[49m\u001b[43m(\u001b[49m\u001b[38;5;28;43mself\u001b[39;49m\u001b[38;5;241;43m.\u001b[39;49m\u001b[43m_pyroConnection\u001b[49m\u001b[43m,\u001b[49m\u001b[43m \u001b[49m\u001b[43m[\u001b[49m\u001b[43mmessage\u001b[49m\u001b[38;5;241;43m.\u001b[39;49m\u001b[43mMSG_RESULT\u001b[49m\u001b[43m]\u001b[49m\u001b[43m,\u001b[49m\u001b[43m \u001b[49m\u001b[43mhmac_key\u001b[49m\u001b[38;5;241;43m=\u001b[39;49m\u001b[38;5;28;43mself\u001b[39;49m\u001b[38;5;241;43m.\u001b[39;49m\u001b[43m_pyroHmacKey\u001b[49m\u001b[43m)\u001b[49m\n\u001b[0;32m    454\u001b[0m     \u001b[38;5;28;01mif\u001b[39;00m config\u001b[38;5;241m.\u001b[39mLOGWIRE:\n\u001b[0;32m    455\u001b[0m         _log_wiredata(log, \u001b[38;5;124m\"\u001b[39m\u001b[38;5;124mproxy wiredata received\u001b[39m\u001b[38;5;124m\"\u001b[39m, msg)\n",
      "File \u001b[1;32mc:\\Users\\slab\\anaconda3\\envs\\slab\\lib\\site-packages\\Pyro4\\message.py:168\u001b[0m, in \u001b[0;36mMessage.recv\u001b[1;34m(cls, connection, requiredMsgTypes, hmac_key)\u001b[0m\n\u001b[0;32m    160\u001b[0m \u001b[38;5;129m@classmethod\u001b[39m\n\u001b[0;32m    161\u001b[0m \u001b[38;5;28;01mdef\u001b[39;00m \u001b[38;5;21mrecv\u001b[39m(\u001b[38;5;28mcls\u001b[39m, connection, requiredMsgTypes\u001b[38;5;241m=\u001b[39m\u001b[38;5;28;01mNone\u001b[39;00m, hmac_key\u001b[38;5;241m=\u001b[39m\u001b[38;5;28;01mNone\u001b[39;00m):\n\u001b[0;32m    162\u001b[0m     \u001b[38;5;124;03m\"\"\"\u001b[39;00m\n\u001b[0;32m    163\u001b[0m \u001b[38;5;124;03m    Receives a pyro message from a given connection.\u001b[39;00m\n\u001b[0;32m    164\u001b[0m \u001b[38;5;124;03m    Accepts the given message types (None=any, or pass a sequence).\u001b[39;00m\n\u001b[0;32m    165\u001b[0m \u001b[38;5;124;03m    Also reads annotation chunks and the actual payload data.\u001b[39;00m\n\u001b[0;32m    166\u001b[0m \u001b[38;5;124;03m    Validates a HMAC chunk if present.\u001b[39;00m\n\u001b[0;32m    167\u001b[0m \u001b[38;5;124;03m    \"\"\"\u001b[39;00m\n\u001b[1;32m--> 168\u001b[0m     msg \u001b[38;5;241m=\u001b[39m \u001b[38;5;28mcls\u001b[39m\u001b[38;5;241m.\u001b[39mfrom_header(\u001b[43mconnection\u001b[49m\u001b[38;5;241;43m.\u001b[39;49m\u001b[43mrecv\u001b[49m\u001b[43m(\u001b[49m\u001b[38;5;28;43mcls\u001b[39;49m\u001b[38;5;241;43m.\u001b[39;49m\u001b[43mheader_size\u001b[49m\u001b[43m)\u001b[49m)\n\u001b[0;32m    169\u001b[0m     msg\u001b[38;5;241m.\u001b[39mhmac_key \u001b[38;5;241m=\u001b[39m hmac_key\n\u001b[0;32m    170\u001b[0m     \u001b[38;5;28;01mif\u001b[39;00m \u001b[38;5;241m0\u001b[39m \u001b[38;5;241m<\u001b[39m config\u001b[38;5;241m.\u001b[39mMAX_MESSAGE_SIZE \u001b[38;5;241m<\u001b[39m (msg\u001b[38;5;241m.\u001b[39mdata_size \u001b[38;5;241m+\u001b[39m msg\u001b[38;5;241m.\u001b[39mannotations_size):\n",
      "File \u001b[1;32mc:\\Users\\slab\\anaconda3\\envs\\slab\\lib\\site-packages\\Pyro4\\socketutil.py:463\u001b[0m, in \u001b[0;36mSocketConnection.recv\u001b[1;34m(self, size)\u001b[0m\n\u001b[0;32m    462\u001b[0m \u001b[38;5;28;01mdef\u001b[39;00m \u001b[38;5;21mrecv\u001b[39m(\u001b[38;5;28mself\u001b[39m, size):\n\u001b[1;32m--> 463\u001b[0m     \u001b[38;5;28;01mreturn\u001b[39;00m \u001b[43mreceiveData\u001b[49m\u001b[43m(\u001b[49m\u001b[38;5;28;43mself\u001b[39;49m\u001b[38;5;241;43m.\u001b[39;49m\u001b[43msock\u001b[49m\u001b[43m,\u001b[49m\u001b[43m \u001b[49m\u001b[43msize\u001b[49m\u001b[43m)\u001b[49m\n",
      "File \u001b[1;32mc:\\Users\\slab\\anaconda3\\envs\\slab\\lib\\site-packages\\Pyro4\\socketutil.py:171\u001b[0m, in \u001b[0;36mreceiveData\u001b[1;34m(sock, size)\u001b[0m\n\u001b[0;32m    168\u001b[0m \u001b[38;5;28;01mtry\u001b[39;00m:\n\u001b[0;32m    169\u001b[0m     \u001b[38;5;28;01mwhile\u001b[39;00m msglen \u001b[38;5;241m<\u001b[39m size:\n\u001b[0;32m    170\u001b[0m         \u001b[38;5;66;03m# 60k buffer limit avoids problems on certain OSes like VMS, Windows\u001b[39;00m\n\u001b[1;32m--> 171\u001b[0m         chunk \u001b[38;5;241m=\u001b[39m \u001b[43msock\u001b[49m\u001b[38;5;241;43m.\u001b[39;49m\u001b[43mrecv\u001b[49m\u001b[43m(\u001b[49m\u001b[38;5;28;43mmin\u001b[39;49m\u001b[43m(\u001b[49m\u001b[38;5;241;43m60000\u001b[39;49m\u001b[43m,\u001b[49m\u001b[43m \u001b[49m\u001b[43msize\u001b[49m\u001b[43m \u001b[49m\u001b[38;5;241;43m-\u001b[39;49m\u001b[43m \u001b[49m\u001b[43mmsglen\u001b[49m\u001b[43m)\u001b[49m\u001b[43m)\u001b[49m\n\u001b[0;32m    172\u001b[0m         \u001b[38;5;28;01mif\u001b[39;00m \u001b[38;5;129;01mnot\u001b[39;00m chunk:\n\u001b[0;32m    173\u001b[0m             \u001b[38;5;28;01mbreak\u001b[39;00m\n",
      "\u001b[1;31mKeyboardInterrupt\u001b[0m: "
     ]
    }
   ],
   "source": [
    "d=[]\n",
    "phase = []\n",
    "for i in range(300):\n",
    "    if i % 12 == 0:\n",
    "        shot = meas.HistogramExperiment(cfg_dict, qi=qi, params={'shots':20000})\n",
    "        config.update_readout(cfg_path, 'threshold',shot.data['thresholds'][0], qi);\n",
    "        config.update_readout(cfg_path, 'phase', shot.data['angle'], qi);\n",
    "        phase.append(shot.data['angle'])\n",
    "\n",
    "    t1stark=meas.T1StarkPowerQuadMulti(cfg_dict, qi=0, params={'stop_f':25, 'df_pos':100, 'df_neg':-90, 'active_reset':True})\n",
    "    d.append(t1stark)\n",
    "\n",
    "concatenated_data = np.concatenate([d[i].data['avgi_2'] for i in range(0, len(d))], axis=1)\n",
    "\n",
    "#print(concatenated_data)\n",
    "\n",
    "plt.figure()\n",
    "plt.pcolormesh(concatenated_data)"
   ]
  },
  {
   "cell_type": "code",
   "execution_count": 154,
   "metadata": {},
   "outputs": [],
   "source": [
    "f=[d[i].data['avgi'] for i in range(1, len(d))]"
   ]
  },
  {
   "cell_type": "code",
   "execution_count": null,
   "metadata": {},
   "outputs": [],
   "source": [
    "len(d)"
   ]
  },
  {
   "cell_type": "code",
   "execution_count": null,
   "metadata": {},
   "outputs": [],
   "source": [
    "concatenated_data.shape"
   ]
  },
  {
   "cell_type": "code",
   "execution_count": null,
   "metadata": {},
   "outputs": [],
   "source": [
    "concatenated_data.shape"
   ]
  },
  {
   "cell_type": "code",
   "execution_count": 188,
   "metadata": {},
   "outputs": [],
   "source": [
    "times = [d[i].data['start_time'] for i in range(0, len(d))] \n",
    "concatenated_data = np.concatenate([d[i].data['avgi'] for i in range(0, len(d))], axis=1)"
   ]
  },
  {
   "cell_type": "code",
   "execution_count": null,
   "metadata": {},
   "outputs": [],
   "source": [
    "from datetime import datetime\n",
    "\n",
    "# Convert the first element of times to a datetime object\n",
    "\n",
    "tm = [datetime.strptime(times[i].decode('utf-8'), '%Y-%m-%d %H:%M:%S') for i in range(len(times))]\n",
    "time_from_first = [(t - tm[0]).total_seconds() for t in tm]\n",
    "print(time_from_first)"
   ]
  },
  {
   "cell_type": "code",
   "execution_count": null,
   "metadata": {},
   "outputs": [],
   "source": [
    "concatenated_data()"
   ]
  },
  {
   "cell_type": "code",
   "execution_count": null,
   "metadata": {},
   "outputs": [],
   "source": [
    "plt.figure()\n",
    "concatenated_data = np.concatenate([d[i].data['avgi'] for i in range(0, len(d))], axis=1)\n",
    "import matplotlib.dates as mdates\n",
    "\n",
    "plt.pcolormesh(np.array(time_from_first)/60/60, d[-1].data['f_pts'], concatenated_data)\n",
    "#plt.gca().xaxis.set_major_formatter(mdates.DateFormatter('%Y-%m-%d %H:%M'))\n",
    "#plt.gca().xaxis.set_major_locator(mdates.HourLocator(interval=1))\n",
    "#plt.gcf().autofmt_xdate()\n"
   ]
  },
  {
   "cell_type": "code",
   "execution_count": null,
   "metadata": {},
   "outputs": [],
   "source": [
    "plt.figure()\n",
    "plt.pcolormesh(concatenated_data)\n",
    "concatenated_data = np.concatenate([d[i].data['avgi'] for i in range(1, len(d))], axis=1)\n"
   ]
  },
  {
   "cell_type": "code",
   "execution_count": 161,
   "metadata": {},
   "outputs": [],
   "source": [
    "cd0 = np.concatenate([d[i].data['avgi_0'] for i in range(0, len(d))], axis=1)\n",
    "cd1 = np.concatenate([d[i].data['avgi_1'] for i in range(0, len(d))], axis=1)\n",
    "cd2 = np.concatenate([d[i].data['avgi_2'] for i in range(0, len(d))], axis=1)\n",
    "cd3 = np.concatenate([d[i].data['avgi_3'] for i in range(0, len(d))], axis=1)"
   ]
  },
  {
   "cell_type": "code",
   "execution_count": null,
   "metadata": {},
   "outputs": [],
   "source": [
    "import numpy as np\n",
    "\n",
    "combined_cd = np.stack((cd0, cd1, cd2, cd3), axis=-1)\n",
    "print(combined_cd.shape)"
   ]
  },
  {
   "cell_type": "code",
   "execution_count": 165,
   "metadata": {},
   "outputs": [],
   "source": [
    "tms=d[0].data['wait_times']"
   ]
  },
  {
   "cell_type": "code",
   "execution_count": null,
   "metadata": {},
   "outputs": [],
   "source": [
    "sns.set_palette('coolwarm',len(combined_cd))\n",
    "from scipy.optimize import curve_fit\n",
    "plt.figure()\n",
    "def t1_fit(x, a, b, c):\n",
    "    return b * np.exp(-x / c) + a\n",
    "fits=[]\n",
    "tm_full = np.linspace(0, tms[3])\n",
    "#for i in range(5):\n",
    "for i in range(len(combined_cd)):\n",
    "    plt.plot(tms, combined_cd[i][0][:],'o-')\n",
    "    p0 = (np.min(combined_cd[i][0][:]), np.max(combined_cd[i][0][:])-np.min(combined_cd[i][0][:]), tms[2])\n",
    "    popt, err = curve_fit(t1_fit, tms, combined_cd[i][0][:], p0=p0)\n",
    "    fit_err = np.sqrt(np.diag(err))   \n",
    "    if np.mean(fit_err/np.abs(popt))>0.5:\n",
    "        fits.append(np.nan*np.ones(3))   \n",
    "    else:\n",
    "        fits.append(popt)\n",
    "    #print(p0)\n",
    "    #plt.plot(tm_full, t1_fit(np.array(tm_full), *popt),'k', label=f'Fit {i}')\n",
    "    #print(popt)\n",
    "#plt.legend()\n"
   ]
  },
  {
   "cell_type": "code",
   "execution_count": 183,
   "metadata": {},
   "outputs": [],
   "source": [
    "t1_data = [fits[i][2] for i in range(len(fits))]    \n",
    "offset = [fits[i][0] for i in range(len(fits))]\n",
    "amp = [fits[i][1] for i in range(len(fits))]"
   ]
  },
  {
   "cell_type": "code",
   "execution_count": null,
   "metadata": {},
   "outputs": [],
   "source": [
    "fig, ax = plt.subplots(3, 1, figsize=(8, 7))\n",
    "ax[0].plot(t1_data, 'o-')\n",
    "ax[1].plot(offset, 'o-')\n",
    "ax[2].plot(amp, 'o-')"
   ]
  },
  {
   "cell_type": "code",
   "execution_count": null,
   "metadata": {},
   "outputs": [],
   "source": [
    "d[0].data.keys()"
   ]
  },
  {
   "cell_type": "code",
   "execution_count": 367,
   "metadata": {},
   "outputs": [],
   "source": [
    "dlist = [d[i].data['avgi'] for i in range(1,len(d))]"
   ]
  },
  {
   "cell_type": "code",
   "execution_count": null,
   "metadata": {},
   "outputs": [],
   "source": [
    "concatenated_data.shape"
   ]
  },
  {
   "cell_type": "code",
   "execution_count": null,
   "metadata": {},
   "outputs": [],
   "source": [
    "import numpy as np\n",
    "\n",
    "# Concatenate all d[i].data['avgi'] into a single dataset\n",
    "concatenated_data = np.concatenate([d[i].data['avgi'] for i in range(1, len(d))], axis=1)\n",
    "\n",
    "#print(concatenated_data)\n",
    "\n",
    "plt.figure()\n",
    "plt.pcolormesh(concatenated_data)"
   ]
  }
 ],
 "metadata": {
  "kernelspec": {
   "display_name": "slab",
   "language": "python",
   "name": "python3"
  },
  "language_info": {
   "codemirror_mode": {
    "name": "ipython",
    "version": 3
   },
   "file_extension": ".py",
   "mimetype": "text/x-python",
   "name": "python",
   "nbconvert_exporter": "python",
   "pygments_lexer": "ipython3",
   "version": "3.10.9"
  }
 },
 "nbformat": 4,
 "nbformat_minor": 2
}
